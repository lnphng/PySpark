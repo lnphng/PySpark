{
 "cells": [
  {
   "cell_type": "markdown",
   "metadata": {},
   "source": [
    "#### Data Problems:\n",
    "- Missing fields, \n",
    "- Bizarre formatting, \n",
    "- Orders of magnitude more data. \n",
    "\n",
    "#### Possibletasksindatacleaning:\n",
    "- Reformatting or replacing text\n",
    "- Performing calculations\n",
    "- Removing garbage or incomplete data\n",
    "\n",
    "#### Spark Schemas \n",
    "- Define the format of  DataFrame \n",
    "- Various data types:\n",
    "    - Strings,\n",
    "    - dates,\n",
    "    - integers,\n",
    "    - arrays\n",
    "    \n",
    "- Can filter garbage data during import \n",
    "- Improves read performance\n",
    "\n",
    "#### Note: The primary limit to Spark's abilities is the level of RAM in the Spark cluster."
   ]
  },
  {
   "cell_type": "code",
   "execution_count": 1,
   "metadata": {},
   "outputs": [],
   "source": [
    "import os\n",
    "import sys\n",
    "\n",
    "os.environ['SPARK_HOME'] = \"C:/Spark\"\n",
    "sys.path.append(\"C:/Spark/spark-3.1.2-bin-hadoop3.2/python/\")\n",
    "\n"
   ]
  },
  {
   "cell_type": "code",
   "execution_count": 2,
   "metadata": {},
   "outputs": [
    {
     "name": "stdout",
     "output_type": "stream",
     "text": [
      "<class 'pyspark.context.SparkContext'>\n",
      "<property object at 0x00000062C6FBD5E8>\n"
     ]
    }
   ],
   "source": [
    "from pyspark import  SparkContext as sc# And then try to import SparkContext.\n",
    "# Verify SparkContext\n",
    "print(sc)\n",
    "\n",
    "# Print Spark version\n",
    "print(sc.version)"
   ]
  },
  {
   "cell_type": "code",
   "execution_count": 3,
   "metadata": {},
   "outputs": [
    {
     "name": "stdout",
     "output_type": "stream",
     "text": [
      "C:/Spark\n",
      "C:/Spark\\./bin/spark-submit\n"
     ]
    }
   ],
   "source": [
    "#import os\n",
    "print(os.environ.get(\"SPARK_HOME\"))\n",
    "\n",
    "print(os.path.join(os.environ.get(\"SPARK_HOME\"), './bin/spark-submit'))\n",
    "\n",
    "#gateway = JavaGateway()\n",
    "\n",
    "os.environ['SPARK_HOME']=\"C:/Spark/spark-3.1.2-bin-hadoop3.2\"\n",
    "os.environ['JAVA_HOME']=\"C:/Program Files/Java/jdk1.8.0_144\"\n",
    "sys.path.append(\"C:/Spark/spark-3.1.2-bin-hadoop3.2/python\")\n",
    "os.environ['HADOOP_HOME']=\"C:/Hadoop\"\n"
   ]
  },
  {
   "cell_type": "code",
   "execution_count": 4,
   "metadata": {},
   "outputs": [
    {
     "name": "stdout",
     "output_type": "stream",
     "text": [
      "<pyspark.sql.session.SparkSession object at 0x00000062C7226F88>\n"
     ]
    }
   ],
   "source": [
    "\n",
    "\n",
    "from pyspark import SparkContext\n",
    "from pyspark import SparkConf\n",
    "\n",
    "import pyspark # only run after findspark.init()\n",
    "from pyspark.sql.functions import to_date, col\n",
    "from pyspark.sql import SparkSession\n",
    "spark = SparkSession.builder.getOrCreate()\n",
    "# Print spark\n",
    "print(spark)\n",
    "spark.conf.set(\"spark.sql.parquet.compression.codec\", \"gzip\")"
   ]
  },
  {
   "cell_type": "code",
   "execution_count": 5,
   "metadata": {},
   "outputs": [],
   "source": [
    "\n",
    "processFile=('..\\\\PySpark')\n",
    "fileName =(os.listdir(processFile))\n",
    "file_path_total=[]\n",
    "def file_path(fileName):\n",
    "    #processFile=('..\\\\PySpark')\n",
    "    #fileName =(os.listdir(processFile))\n",
    "    for file in fileName:\n",
    "        if \".csv\" in file:\n",
    "            file_path = \"%s/%s\" % (processFile, file)\n",
    "            file_path_total.append(file_path)\n",
    "    return file_path_total"
   ]
  },
  {
   "cell_type": "markdown",
   "metadata": {},
   "source": [
    "### SparkSchema\n",
    "`StructField(String name, DataType dataType, boolean nullable, Metadata metadata) `"
   ]
  },
  {
   "cell_type": "code",
   "execution_count": 6,
   "metadata": {},
   "outputs": [],
   "source": [
    "import pyspark.sql.types\n",
    "from pyspark.sql.types import *\n",
    "#from pyspark.sql.types import StructType,StructField\n",
    "\n",
    "# Define a new schema using the StructType method\n",
    "people_schema = StructType([\n",
    "  # Define a StructField for each field\n",
    "  StructField('name', StringType(), False),\n",
    "  StructField('age', IntegerType(), False),\n",
    "  StructField('city', StringType(), False)\n",
    "])"
   ]
  },
  {
   "cell_type": "markdown",
   "metadata": {},
   "source": [
    "#### Immutability and lazy processing\n",
    "\n",
    "**Immutability:**\n",
    "- Immutable variables are:\n",
    "    - A component of functional programming \n",
    "    - Define once \n",
    "    - Unable to be directly modied \n",
    "    - Re-created if reassigned \n",
    "    - Able to be share efficiently\n",
    "\n",
    "Spark takes advantage of data immutability to efficiently share / create new data representations throughout the cluster.\n",
    "\n",
    "#### Using lazy processing\n",
    "Lazy processing operations will usually return in about the same amount of time regardless of the actual quantity of data. Remember that this is due to Spark not performing any transformations until an action is requested.\n",
    "\n",
    "For this exercise, we'll be defining a Data Frame (aa_dfw_df) and add a couple transformations. Note the amount of time required for the transformations to complete when defined vs when the data is actually queried. These differences may be short, but they will be noticeable. When working with a full Spark cluster with larger quantities of data the difference will be more apparent."
   ]
  },
  {
   "cell_type": "code",
   "execution_count": 7,
   "metadata": {
    "scrolled": false
   },
   "outputs": [
    {
     "name": "stdout",
     "output_type": "stream",
     "text": [
      "+-----------------+-------------+-------------------+-----------------------------+-------+\n",
      "|Date (MM/DD/YYYY)|Flight Number|Destination Airport|Actual elapsed time (Minutes)|airport|\n",
      "+-----------------+-------------+-------------------+-----------------------------+-------+\n",
      "|       01/01/2017|         0005|                HNL|                          537|    hnl|\n",
      "|       01/01/2017|         0007|                OGG|                          498|    ogg|\n",
      "|       01/01/2017|         0037|                SFO|                          241|    sfo|\n",
      "|       01/01/2017|         0043|                DTW|                          134|    dtw|\n",
      "|       01/01/2017|         0051|                STL|                           88|    stl|\n",
      "+-----------------+-------------+-------------------+-----------------------------+-------+\n",
      "only showing top 5 rows\n",
      "\n"
     ]
    }
   ],
   "source": [
    "from pyspark.sql import functions as F\n",
    "aa_dfw_df = spark.read.format('csv').options(Header=True).load('AA_DFW_2017_Departures_Short.csv.gz')\n",
    "aa_dfw_df = aa_dfw_df.withColumn('airport', F.lower(aa_dfw_df['Destination Airport']))\n",
    "aa_dfw_df.show(5)"
   ]
  },
  {
   "cell_type": "code",
   "execution_count": 8,
   "metadata": {},
   "outputs": [
    {
     "name": "stdout",
     "output_type": "stream",
     "text": [
      "+-----------------+-------------+-----------------------------+-------+\n",
      "|Date (MM/DD/YYYY)|Flight Number|Actual elapsed time (Minutes)|airport|\n",
      "+-----------------+-------------+-----------------------------+-------+\n",
      "|       01/01/2017|         0005|                          537|    hnl|\n",
      "|       01/01/2017|         0007|                          498|    ogg|\n",
      "|       01/01/2017|         0037|                          241|    sfo|\n",
      "|       01/01/2017|         0043|                          134|    dtw|\n",
      "|       01/01/2017|         0051|                           88|    stl|\n",
      "+-----------------+-------------+-----------------------------+-------+\n",
      "only showing top 5 rows\n",
      "\n"
     ]
    }
   ],
   "source": [
    "\n",
    "# Drop the Destination Airport column\n",
    "aa_dfw_df = aa_dfw_df.drop(aa_dfw_df['Destination Airport'])\n",
    "aa_dfw_df.show(5)"
   ]
  },
  {
   "cell_type": "markdown",
   "metadata": {},
   "source": [
    "#### Understanding Parquet\n",
    "- a columnar data store, allowing Spark to use predicate pushdown. \n",
    "- means Spark will only process the data necessary to complete the operations you define versus reading the entire dataset. \n",
    "\n",
    "=>This gives Spark more flexibility in accessing the data and often drastically improves performance on large datasets."
   ]
  },
  {
   "cell_type": "code",
   "execution_count": 9,
   "metadata": {},
   "outputs": [
    {
     "name": "stdout",
     "output_type": "stream",
     "text": [
      "+----------+------------------+---------+--------+-------------+-------------------+---------+------------------+-----------------------+------------------+--------------------+\n",
      "|      DATE|AGENDA_ITEM_NUMBER|ITEM_TYPE|DISTRICT|        TITLE|         VOTER NAME|VOTE CAST|FINAL ACTION TAKEN|AGENDA ITEM DESCRIPTION|         AGENDA_ID|             VOTE_ID|\n",
      "+----------+------------------+---------+--------+-------------+-------------------+---------+------------------+-----------------------+------------------+--------------------+\n",
      "|02/08/2017|                 1|   AGENDA|      13|Councilmember|  Jennifer S. Gates|      N/A|  NO ACTION NEEDED|          Call to Order|020817__Special__1|020817__Special__...|\n",
      "|02/08/2017|                 1|   AGENDA|      14|Councilmember| Philip T. Kingston|      N/A|  NO ACTION NEEDED|          Call to Order|020817__Special__1|020817__Special__...|\n",
      "|02/08/2017|                 1|   AGENDA|      15|        Mayor|Michael S. Rawlings|      N/A|  NO ACTION NEEDED|          Call to Order|020817__Special__1|020817__Special__...|\n",
      "|02/08/2017|                 1|   AGENDA|       2|Councilmember|       Adam Medrano|      N/A|  NO ACTION NEEDED|          Call to Order|020817__Special__1|020817__Special__1_2|\n",
      "|02/08/2017|                 1|   AGENDA|       3|Councilmember|   Casey Thomas, II|      N/A|  NO ACTION NEEDED|          Call to Order|020817__Special__1|020817__Special__1_3|\n",
      "+----------+------------------+---------+--------+-------------+-------------------+---------+------------------+-----------------------+------------------+--------------------+\n",
      "only showing top 5 rows\n",
      "\n"
     ]
    }
   ],
   "source": [
    "from pyspark.sql import functions as F\n",
    "voter_df_org = spark.read.format('csv').options(Header=True).load('DallasCouncilVotes.csv.gz')\n",
    "\n",
    "voter_df_org.show(5)"
   ]
  },
  {
   "cell_type": "markdown",
   "metadata": {},
   "source": [
    "### Cleaning voter_name\n",
    "`voter_name`:\n",
    "- contains the date of the vote \n",
    "- the name and position of the voter.\n",
    "\n",
    "=> clean this data so it can later be integrated into some desired reports. \n",
    "**Tasks\":**\n",
    "    - to remove any null entries or odd characters and \n",
    "    - return a specific set of voters where can validate their information."
   ]
  },
  {
   "cell_type": "code",
   "execution_count": 10,
   "metadata": {},
   "outputs": [
    {
     "name": "stdout",
     "output_type": "stream",
     "text": [
      "+--------------------------------------------------------------------------------------------------------------------------------------------------------------------------------------------------------------------------------------------------------------------------------------------------------------------------------------------------------------------------------------------------------------------------+\n",
      "|VOTER_NAME                                                                                                                                                                                                                                                                                                                                                                                                                |\n",
      "+--------------------------------------------------------------------------------------------------------------------------------------------------------------------------------------------------------------------------------------------------------------------------------------------------------------------------------------------------------------------------------------------------------------------------+\n",
      "|Tennell Atkins                                                                                                                                                                                                                                                                                                                                                                                                            |\n",
      "|  the  final   2018 Assessment Plan and the 2018 Assessment  Roll  (to  be  kept  on  file  with  the  City  Secretary);  establishing  classifications  for   the   apportionment   of   costs and the methods of assessing special assessments for the services and improvements to property in the District;  closing  the  hearing  and  levying  a  special  assessment  on  property  in  the  District             |\n",
      "|Scott Griggs                                                                                                                                                                                                                                                                                                                                                                                                              |\n",
      "|Scott  Griggs                                                                                                                                                                                                                                                                                                                                                                                                             |\n",
      "|Sandy Greyson                                                                                                                                                                                                                                                                                                                                                                                                             |\n",
      "|Michael S. Rawlings                                                                                                                                                                                                                                                                                                                                                                                                       |\n",
      "| the final 2018 Assessment Plan and the 2018 Assessment  Roll  (to  be  kept  on  file  with  the  City  Secretary);  establishing  classifications  for  the   apportionment   of   costs and  the  methods  of  assessing  special  assessments  on  Dallas  hotels  with    100 or more rooms                                                                                                                          |\n",
      "|Kevin Felder                                                                                                                                                                                                                                                                                                                                                                                                              |\n",
      "|Adam Medrano                                                                                                                                                                                                                                                                                                                                                                                                              |\n",
      "|null                                                                                                                                                                                                                                                                                                                                                                                                                      |\n",
      "|   the   final  2018 Assessment  Plan  and  the  2018 Assessment  Roll  (to  be  kept  on  file   with the City Secretary); establishing classifications  for  the  apportionment  of  costs  and  the  methods  of  assessing  special  assessments  for  the  services  and  improvements  to  property  in  the  District;  closing  the  hearing  and  levying  a special  assessment  on  property  in  the  District|\n",
      "|011018__42                                                                                                                                                                                                                                                                                                                                                                                                                |\n",
      "|Casey Thomas, II                                                                                                                                                                                                                                                                                                                                                                                                          |\n",
      "|Mark  Clayton                                                                                                                                                                                                                                                                                                                                                                                                             |\n",
      "|Casey  Thomas, II                                                                                                                                                                                                                                                                                                                                                                                                         |\n",
      "|Sandy  Greyson                                                                                                                                                                                                                                                                                                                                                                                                            |\n",
      "|Mark Clayton                                                                                                                                                                                                                                                                                                                                                                                                              |\n",
      "|Jennifer S.  Gates                                                                                                                                                                                                                                                                                                                                                                                                        |\n",
      "|Tiffinni A. Young                                                                                                                                                                                                                                                                                                                                                                                                         |\n",
      "|  the  final  2018 Assessment  Plan   and   the   2018 Assessment   Roll  (to  be  kept  on  file  with  the  City  Secretary);  establishing   classifications  for the apportionment of costs and the  methods  of  assessing  special  assessments for the services and improvements  to  property  in  the  District;  closing the hearing and  levying  a  special  assessment  on  property  in  the  District      |\n",
      "+--------------------------------------------------------------------------------------------------------------------------------------------------------------------------------------------------------------------------------------------------------------------------------------------------------------------------------------------------------------------------------------------------------------------------+\n",
      "only showing top 20 rows\n",
      "\n"
     ]
    }
   ],
   "source": [
    "# Show the distinct VOTER_NAME entries\n",
    "voter_df_org= voter_df_org.withColumnRenamed(\"VOTER NAME\",\"VOTER_NAME\")\n",
    "voter_df_org= voter_df_org[\"DATE\",\"TITLE\",\"VOTER_NAME\"]\n",
    "voter_df= voter_df_org\n",
    "voter_df.select(\"VOTER_NAME\").distinct().show(truncate =False)\n"
   ]
  },
  {
   "cell_type": "code",
   "execution_count": 11,
   "metadata": {
    "scrolled": false
   },
   "outputs": [
    {
     "name": "stdout",
     "output_type": "stream",
     "text": [
      "+-------------------+\n",
      "|         VOTER_NAME|\n",
      "+-------------------+\n",
      "|     Tennell Atkins|\n",
      "|       Scott Griggs|\n",
      "|      Scott  Griggs|\n",
      "|      Sandy Greyson|\n",
      "|Michael S. Rawlings|\n",
      "|       Kevin Felder|\n",
      "|       Adam Medrano|\n",
      "|         011018__42|\n",
      "|   Casey Thomas, II|\n",
      "|      Mark  Clayton|\n",
      "|  Casey  Thomas, II|\n",
      "|     Sandy  Greyson|\n",
      "|       Mark Clayton|\n",
      "| Jennifer S.  Gates|\n",
      "|  Tiffinni A. Young|\n",
      "|   B. Adam  McGough|\n",
      "|       Omar Narvaez|\n",
      "| Philip T. Kingston|\n",
      "| Rickey D. Callahan|\n",
      "|  Dwaine R. Caraway|\n",
      "+-------------------+\n",
      "only showing top 20 rows\n",
      "\n"
     ]
    }
   ],
   "source": [
    "voter_df = voter_df.withColumn(\"length_of_VOTER_NAME\", F.length(\"VOTER_NAME\"))\n",
    "voter_df=voter_df.withColumn(\"length_of_VOTER_NAME\",voter_df.length_of_VOTER_NAME.cast(IntegerType()))\n",
    "voter_df =voter_df.filter(voter_df.length_of_VOTER_NAME < 20)\n",
    "voter_df.select(\"VOTER_NAME\").distinct().show()\n"
   ]
  },
  {
   "cell_type": "code",
   "execution_count": 12,
   "metadata": {
    "scrolled": false
   },
   "outputs": [
    {
     "name": "stdout",
     "output_type": "stream",
     "text": [
      "+-------------------+\n",
      "|VOTER_NAME         |\n",
      "+-------------------+\n",
      "|Adam Medrano       |\n",
      "|B. Adam  McGough   |\n",
      "|Carolyn King Arnold|\n",
      "|Casey  Thomas, II  |\n",
      "|Casey Thomas, II   |\n",
      "|Dwaine R. Caraway  |\n",
      "|Erik Wilson        |\n",
      "|Jennifer S.  Gates |\n",
      "|Jennifer S. Gates  |\n",
      "|Kevin Felder       |\n",
      "|Lee Kleinman       |\n",
      "|Lee M. Kleinman    |\n",
      "|Mark  Clayton      |\n",
      "|Mark Clayton       |\n",
      "|Michael S. Rawlings|\n",
      "|Monica R. Alonzo   |\n",
      "|Omar Narvaez       |\n",
      "|Philip T.  Kingston|\n",
      "|Philip T. Kingston |\n",
      "|Rickey D.  Callahan|\n",
      "|Rickey D. Callahan |\n",
      "|Sandy  Greyson     |\n",
      "|Sandy Greyson      |\n",
      "|Scott  Griggs      |\n",
      "|Scott Griggs       |\n",
      "|Tennell Atkins     |\n",
      "|Tiffinni A. Young  |\n",
      "+-------------------+\n",
      "\n"
     ]
    }
   ],
   "source": [
    "# Filter voter_df where the VOTER_NAME is 1-20 characters in lengthb\n",
    "voter_df = voter_df_org\n",
    "#.show()\n",
    "\n",
    "#voter_df.select('VOTER_NAME').distinct().show(20, truncate=False)\n",
    "\n",
    "voter_df= voter_df.filter(~F.col('VOTER_NAME').contains('_'))#.show(30)\n",
    "voter_df = voter_df.filter(F.length(\"VOTER_NAME\") < 20 )\n",
    "voter_df.select(\"VOTER_NAME\").distinct().sort(\"VOTER_NAME\").show(200, truncate=False)\n"
   ]
  },
  {
   "cell_type": "code",
   "execution_count": 13,
   "metadata": {
    "scrolled": false
   },
   "outputs": [
    {
     "name": "stdout",
     "output_type": "stream",
     "text": [
      "+--------------------+-------+----------+\n",
      "|                DATE|  TITLE|VOTER_NAME|\n",
      "+--------------------+-------+----------+\n",
      "|MADELEINE JOHNSON...| 2020]\"|011018__42|\n",
      "|MADELEINE JOHNSON...| 2020]\"|011018__42|\n",
      "|MADELEINE JOHNSON...| 2020]\"|011018__42|\n",
      "|MADELEINE JOHNSON...| 2020]\"|011018__42|\n",
      "|MADELEINE JOHNSON...| 2020]\"|011018__42|\n",
      "|MADELEINE JOHNSON...| 2020]\"|011018__42|\n",
      "|MADELEINE JOHNSON...| 2020]\"|011018__42|\n",
      "|MADELEINE JOHNSON...| 2020]\"|011018__42|\n",
      "|MADELEINE JOHNSON...| 2020]\"|011018__42|\n",
      "|MADELEINE JOHNSON...| 2020]\"|011018__42|\n",
      "|MADELEINE JOHNSON...| 2020]\"|011018__42|\n",
      "|MADELEINE JOHNSON...| 2020]\"|011018__42|\n",
      "|MADELEINE JOHNSON...| 2020]\"|011018__42|\n",
      "|MADELEINE JOHNSON...| 2020]\"|011018__42|\n",
      "|MADELEINE JOHNSON...| 2020]\"|011018__42|\n",
      "+--------------------+-------+----------+\n",
      "\n",
      "+----+-----+----------+\n",
      "|DATE|TITLE|VOTER_NAME|\n",
      "+----+-----+----------+\n",
      "+----+-----+----------+\n",
      "\n"
     ]
    }
   ],
   "source": [
    "voter_df_org.filter(F.col('VOTER_NAME').contains('_')).show(30)\n",
    "voter_df.filter(F.col('VOTER_NAME').contains('_')).show(30)"
   ]
  },
  {
   "cell_type": "code",
   "execution_count": 14,
   "metadata": {
    "scrolled": false
   },
   "outputs": [
    {
     "name": "stdout",
     "output_type": "stream",
     "text": [
      "+----------+-------------+-------------------+\n",
      "|      DATE|        TITLE|         VOTER_NAME|\n",
      "+----------+-------------+-------------------+\n",
      "|02/08/2017|Councilmember|  Jennifer S. Gates|\n",
      "|02/08/2017|Councilmember| Philip T. Kingston|\n",
      "|02/08/2017|        Mayor|Michael S. Rawlings|\n",
      "|02/08/2017|Councilmember|       Adam Medrano|\n",
      "|02/08/2017|Councilmember|   Casey Thomas, II|\n",
      "|02/08/2017|Councilmember|Carolyn King Arnold|\n",
      "|02/08/2017|Councilmember|       Scott Griggs|\n",
      "|02/08/2017|Councilmember|   B. Adam  McGough|\n",
      "|02/08/2017|Councilmember|       Lee Kleinman|\n",
      "|02/08/2017|Councilmember|      Sandy Greyson|\n",
      "|02/08/2017|Councilmember|  Jennifer S. Gates|\n",
      "|02/08/2017|Councilmember| Philip T. Kingston|\n",
      "|02/08/2017|        Mayor|Michael S. Rawlings|\n",
      "|02/08/2017|Councilmember|       Adam Medrano|\n",
      "|02/08/2017|Councilmember|   Casey Thomas, II|\n",
      "|02/08/2017|Councilmember|Carolyn King Arnold|\n",
      "|02/08/2017|Councilmember| Rickey D. Callahan|\n",
      "|01/11/2017|Councilmember|  Jennifer S. Gates|\n",
      "|04/25/2018|Councilmember|     Sandy  Greyson|\n",
      "|04/25/2018|Councilmember| Jennifer S.  Gates|\n",
      "+----------+-------------+-------------------+\n",
      "only showing top 20 rows\n",
      "\n",
      "+----+-----+----------+\n",
      "|DATE|TITLE|VOTER_NAME|\n",
      "+----+-----+----------+\n",
      "+----+-----+----------+\n",
      "\n"
     ]
    }
   ],
   "source": [
    "voter_df = voter_df.filter(~ F.col('VOTER_NAME').contains('_'))\n",
    "\n",
    "voter_df.show()\n",
    "voter_df.filter(F.col('VOTER_NAME').contains('_')).show(30)"
   ]
  },
  {
   "cell_type": "code",
   "execution_count": 15,
   "metadata": {},
   "outputs": [
    {
     "name": "stdout",
     "output_type": "stream",
     "text": [
      "+-------------------+\n",
      "|         VOTER_NAME|\n",
      "+-------------------+\n",
      "|     Tennell Atkins|\n",
      "|       Scott Griggs|\n",
      "|      Scott  Griggs|\n",
      "|      Sandy Greyson|\n",
      "|Michael S. Rawlings|\n",
      "|       Kevin Felder|\n",
      "|       Adam Medrano|\n",
      "|   Casey Thomas, II|\n",
      "|      Mark  Clayton|\n",
      "|  Casey  Thomas, II|\n",
      "|     Sandy  Greyson|\n",
      "|       Mark Clayton|\n",
      "| Jennifer S.  Gates|\n",
      "|  Tiffinni A. Young|\n",
      "|   B. Adam  McGough|\n",
      "|       Omar Narvaez|\n",
      "| Philip T. Kingston|\n",
      "| Rickey D. Callahan|\n",
      "|  Dwaine R. Caraway|\n",
      "|Philip T.  Kingston|\n",
      "|  Jennifer S. Gates|\n",
      "|    Lee M. Kleinman|\n",
      "|   Monica R. Alonzo|\n",
      "|Rickey D.  Callahan|\n",
      "|Carolyn King Arnold|\n",
      "|        Erik Wilson|\n",
      "|       Lee Kleinman|\n",
      "+-------------------+\n",
      "\n"
     ]
    }
   ],
   "source": [
    "voter_df.select('VOTER_NAME').distinct().show(40, truncate=True)\n"
   ]
  },
  {
   "cell_type": "markdown",
   "metadata": {},
   "source": [
    "### Modifying DataFrame columns"
   ]
  },
  {
   "cell_type": "code",
   "execution_count": 16,
   "metadata": {},
   "outputs": [
    {
     "name": "stdout",
     "output_type": "stream",
     "text": [
      "+----------+-------------+-------------------+--------------------+\n",
      "|      DATE|        TITLE|         VOTER_NAME|              splits|\n",
      "+----------+-------------+-------------------+--------------------+\n",
      "|02/08/2017|Councilmember|  Jennifer S. Gates|[Jennifer, S., Ga...|\n",
      "|02/08/2017|Councilmember| Philip T. Kingston|[Philip, T., King...|\n",
      "|02/08/2017|        Mayor|Michael S. Rawlings|[Michael, S., Raw...|\n",
      "|02/08/2017|Councilmember|       Adam Medrano|     [Adam, Medrano]|\n",
      "|02/08/2017|Councilmember|   Casey Thomas, II|     [Casey, Thomas]|\n",
      "|02/08/2017|Councilmember|Carolyn King Arnold|[Carolyn, King, A...|\n",
      "|02/08/2017|Councilmember|       Scott Griggs|     [Scott, Griggs]|\n",
      "|02/08/2017|Councilmember|   B. Adam  McGough| [B., Adam, McGough]|\n",
      "|02/08/2017|Councilmember|       Lee Kleinman|     [Lee, Kleinman]|\n",
      "|02/08/2017|Councilmember|      Sandy Greyson|    [Sandy, Greyson]|\n",
      "|02/08/2017|Councilmember|  Jennifer S. Gates|[Jennifer, S., Ga...|\n",
      "|02/08/2017|Councilmember| Philip T. Kingston|[Philip, T., King...|\n",
      "|02/08/2017|        Mayor|Michael S. Rawlings|[Michael, S., Raw...|\n",
      "|02/08/2017|Councilmember|       Adam Medrano|     [Adam, Medrano]|\n",
      "|02/08/2017|Councilmember|   Casey Thomas, II|     [Casey, Thomas]|\n",
      "|02/08/2017|Councilmember|Carolyn King Arnold|[Carolyn, King, A...|\n",
      "|02/08/2017|Councilmember| Rickey D. Callahan|[Rickey, D., Call...|\n",
      "|01/11/2017|Councilmember|  Jennifer S. Gates|[Jennifer, S., Ga...|\n",
      "|04/25/2018|Councilmember|     Sandy  Greyson|    [Sandy, Greyson]|\n",
      "|04/25/2018|Councilmember| Jennifer S.  Gates|[Jennifer, S., Ga...|\n",
      "+----------+-------------+-------------------+--------------------+\n",
      "only showing top 20 rows\n",
      "\n"
     ]
    }
   ],
   "source": [
    "voter_df = voter_df.withColumn('splits', F.split(voter_df.VOTER_NAME, ','))\n",
    "voter_df = voter_df.withColumn('splits', voter_df.splits.getItem(0))\n",
    "voter_df = voter_df.withColumn('splits', F.split(voter_df.splits, '\\s+'))\n",
    "voter_df.show()"
   ]
  },
  {
   "cell_type": "code",
   "execution_count": 17,
   "metadata": {},
   "outputs": [
    {
     "name": "stdout",
     "output_type": "stream",
     "text": [
      "+----------+-------------+-------------------+--------------------+----------+\n",
      "|      DATE|        TITLE|         VOTER_NAME|              splits|first_name|\n",
      "+----------+-------------+-------------------+--------------------+----------+\n",
      "|02/08/2017|Councilmember|  Jennifer S. Gates|[Jennifer, S., Ga...|  Jennifer|\n",
      "|02/08/2017|Councilmember| Philip T. Kingston|[Philip, T., King...|    Philip|\n",
      "|02/08/2017|        Mayor|Michael S. Rawlings|[Michael, S., Raw...|   Michael|\n",
      "|02/08/2017|Councilmember|       Adam Medrano|     [Adam, Medrano]|      Adam|\n",
      "|02/08/2017|Councilmember|   Casey Thomas, II|     [Casey, Thomas]|     Casey|\n",
      "|02/08/2017|Councilmember|Carolyn King Arnold|[Carolyn, King, A...|   Carolyn|\n",
      "|02/08/2017|Councilmember|       Scott Griggs|     [Scott, Griggs]|     Scott|\n",
      "|02/08/2017|Councilmember|   B. Adam  McGough| [B., Adam, McGough]|        B.|\n",
      "|02/08/2017|Councilmember|       Lee Kleinman|     [Lee, Kleinman]|       Lee|\n",
      "|02/08/2017|Councilmember|      Sandy Greyson|    [Sandy, Greyson]|     Sandy|\n",
      "|02/08/2017|Councilmember|  Jennifer S. Gates|[Jennifer, S., Ga...|  Jennifer|\n",
      "|02/08/2017|Councilmember| Philip T. Kingston|[Philip, T., King...|    Philip|\n",
      "|02/08/2017|        Mayor|Michael S. Rawlings|[Michael, S., Raw...|   Michael|\n",
      "|02/08/2017|Councilmember|       Adam Medrano|     [Adam, Medrano]|      Adam|\n",
      "|02/08/2017|Councilmember|   Casey Thomas, II|     [Casey, Thomas]|     Casey|\n",
      "|02/08/2017|Councilmember|Carolyn King Arnold|[Carolyn, King, A...|   Carolyn|\n",
      "|02/08/2017|Councilmember| Rickey D. Callahan|[Rickey, D., Call...|    Rickey|\n",
      "|01/11/2017|Councilmember|  Jennifer S. Gates|[Jennifer, S., Ga...|  Jennifer|\n",
      "|04/25/2018|Councilmember|     Sandy  Greyson|    [Sandy, Greyson]|     Sandy|\n",
      "|04/25/2018|Councilmember| Jennifer S.  Gates|[Jennifer, S., Ga...|  Jennifer|\n",
      "+----------+-------------+-------------------+--------------------+----------+\n",
      "only showing top 20 rows\n",
      "\n"
     ]
    }
   ],
   "source": [
    "\n",
    "# Create a new column called first_name based on the first item in splits\n",
    "voter_df = voter_df.withColumn('first_name', voter_df.splits.getItem(0))\n",
    "voter_df.show()"
   ]
  },
  {
   "cell_type": "code",
   "execution_count": 18,
   "metadata": {},
   "outputs": [
    {
     "name": "stdout",
     "output_type": "stream",
     "text": [
      "+----------+-------------+-------------------+----------+---------+\n",
      "|      DATE|        TITLE|         VOTER_NAME|first_name|last_name|\n",
      "+----------+-------------+-------------------+----------+---------+\n",
      "|02/08/2017|Councilmember|  Jennifer S. Gates|  Jennifer|    Gates|\n",
      "|02/08/2017|Councilmember| Philip T. Kingston|    Philip| Kingston|\n",
      "|02/08/2017|        Mayor|Michael S. Rawlings|   Michael| Rawlings|\n",
      "|02/08/2017|Councilmember|       Adam Medrano|      Adam|  Medrano|\n",
      "|02/08/2017|Councilmember|   Casey Thomas, II|     Casey|   Thomas|\n",
      "|02/08/2017|Councilmember|Carolyn King Arnold|   Carolyn|   Arnold|\n",
      "|02/08/2017|Councilmember|       Scott Griggs|     Scott|   Griggs|\n",
      "|02/08/2017|Councilmember|   B. Adam  McGough|        B.|  McGough|\n",
      "|02/08/2017|Councilmember|       Lee Kleinman|       Lee| Kleinman|\n",
      "|02/08/2017|Councilmember|      Sandy Greyson|     Sandy|  Greyson|\n",
      "|02/08/2017|Councilmember|  Jennifer S. Gates|  Jennifer|    Gates|\n",
      "|02/08/2017|Councilmember| Philip T. Kingston|    Philip| Kingston|\n",
      "|02/08/2017|        Mayor|Michael S. Rawlings|   Michael| Rawlings|\n",
      "|02/08/2017|Councilmember|       Adam Medrano|      Adam|  Medrano|\n",
      "|02/08/2017|Councilmember|   Casey Thomas, II|     Casey|   Thomas|\n",
      "|02/08/2017|Councilmember|Carolyn King Arnold|   Carolyn|   Arnold|\n",
      "|02/08/2017|Councilmember| Rickey D. Callahan|    Rickey| Callahan|\n",
      "|01/11/2017|Councilmember|  Jennifer S. Gates|  Jennifer|    Gates|\n",
      "|04/25/2018|Councilmember|     Sandy  Greyson|     Sandy|  Greyson|\n",
      "|04/25/2018|Councilmember| Jennifer S.  Gates|  Jennifer|    Gates|\n",
      "+----------+-------------+-------------------+----------+---------+\n",
      "only showing top 20 rows\n",
      "\n"
     ]
    }
   ],
   "source": [
    "# Get the last entry of the splits list and create a column called last_name\n",
    "\n",
    "voter_df=voter_df.withColumn('last_name', voter_df.splits.getItem(F.size('splits')-1))\n",
    "voter_df = voter_df.drop('splits')\n",
    "voter_df.show()"
   ]
  },
  {
   "cell_type": "code",
   "execution_count": 19,
   "metadata": {},
   "outputs": [
    {
     "name": "stdout",
     "output_type": "stream",
     "text": [
      "+----------+-------------+-------------------+----------+---------+-------------------+\n",
      "|      DATE|        TITLE|         VOTER_NAME|first_name|last_name|         random_val|\n",
      "+----------+-------------+-------------------+----------+---------+-------------------+\n",
      "|02/08/2017|Councilmember|  Jennifer S. Gates|  Jennifer|    Gates| 0.6455532907799368|\n",
      "|02/08/2017|Councilmember| Philip T. Kingston|    Philip| Kingston| 0.3433943464907335|\n",
      "|02/08/2017|        Mayor|Michael S. Rawlings|   Michael| Rawlings|               null|\n",
      "|02/08/2017|Councilmember|       Adam Medrano|      Adam|  Medrano|  0.542205272252099|\n",
      "|02/08/2017|Councilmember|   Casey Thomas, II|     Casey|   Thomas| 0.6970853483536121|\n",
      "|02/08/2017|Councilmember|Carolyn King Arnold|   Carolyn|   Arnold|0.17868923714141494|\n",
      "|02/08/2017|Councilmember|       Scott Griggs|     Scott|   Griggs| 0.4485414193094681|\n",
      "|02/08/2017|Councilmember|   B. Adam  McGough|        B.|  McGough| 0.0997706161170212|\n",
      "|02/08/2017|Councilmember|       Lee Kleinman|       Lee| Kleinman|0.21576807029484157|\n",
      "|02/08/2017|Councilmember|      Sandy Greyson|     Sandy|  Greyson|0.41084672897861174|\n",
      "|02/08/2017|Councilmember|  Jennifer S. Gates|  Jennifer|    Gates| 0.3803467397815419|\n",
      "|02/08/2017|Councilmember| Philip T. Kingston|    Philip| Kingston|0.17879103565743304|\n",
      "|02/08/2017|        Mayor|Michael S. Rawlings|   Michael| Rawlings|               null|\n",
      "|02/08/2017|Councilmember|       Adam Medrano|      Adam|  Medrano| 0.6983260021081287|\n",
      "|02/08/2017|Councilmember|   Casey Thomas, II|     Casey|   Thomas| 0.6615730712107001|\n",
      "|02/08/2017|Councilmember|Carolyn King Arnold|   Carolyn|   Arnold| 0.8376033706390633|\n",
      "|02/08/2017|Councilmember| Rickey D. Callahan|    Rickey| Callahan| 0.7017076287552947|\n",
      "|01/11/2017|Councilmember|  Jennifer S. Gates|  Jennifer|    Gates| 0.5720286041814348|\n",
      "|04/25/2018|Councilmember|     Sandy  Greyson|     Sandy|  Greyson| 0.2974844924868756|\n",
      "|04/25/2018|Councilmember| Jennifer S.  Gates|  Jennifer|    Gates|  0.172364428058275|\n",
      "+----------+-------------+-------------------+----------+---------+-------------------+\n",
      "only showing top 20 rows\n",
      "\n"
     ]
    }
   ],
   "source": [
    "# Add a column to voter_df for any voter with the title **Councilmember**\n",
    "voter_df = voter_df.withColumn('random_val',F.when(voter_df.TITLE == 'Councilmember', F.rand()))\n",
    "\n",
    "# Show some of the DataFrame rows, noting whether the when clause worked\n",
    "voter_df.show()"
   ]
  },
  {
   "cell_type": "code",
   "execution_count": 20,
   "metadata": {},
   "outputs": [
    {
     "name": "stdout",
     "output_type": "stream",
     "text": [
      "+----------+-------------+-------------------+----------+---------+--------------------+\n",
      "|      DATE|        TITLE|         VOTER_NAME|first_name|last_name|          random_val|\n",
      "+----------+-------------+-------------------+----------+---------+--------------------+\n",
      "|02/08/2017|Councilmember|  Jennifer S. Gates|  Jennifer|    Gates|  0.4091010507408096|\n",
      "|02/08/2017|Councilmember| Philip T. Kingston|    Philip| Kingston|  0.7643909206693211|\n",
      "|02/08/2017|        Mayor|Michael S. Rawlings|   Michael| Rawlings|                 2.0|\n",
      "|02/08/2017|Councilmember|       Adam Medrano|      Adam|  Medrano|   0.142597522409193|\n",
      "|02/08/2017|Councilmember|   Casey Thomas, II|     Casey|   Thomas|  0.6878619667881577|\n",
      "|02/08/2017|Councilmember|Carolyn King Arnold|   Carolyn|   Arnold|  0.9561925518938317|\n",
      "|02/08/2017|Councilmember|       Scott Griggs|     Scott|   Griggs| 0.22559471745649806|\n",
      "|02/08/2017|Councilmember|   B. Adam  McGough|        B.|  McGough|  0.9719414297898409|\n",
      "|02/08/2017|Councilmember|       Lee Kleinman|       Lee| Kleinman|0.044472756057393203|\n",
      "|02/08/2017|Councilmember|      Sandy Greyson|     Sandy|  Greyson| 0.34965570226887177|\n",
      "|02/08/2017|Councilmember|  Jennifer S. Gates|  Jennifer|    Gates|  0.4231225009947279|\n",
      "|02/08/2017|Councilmember| Philip T. Kingston|    Philip| Kingston|  0.6289898100208944|\n",
      "|02/08/2017|        Mayor|Michael S. Rawlings|   Michael| Rawlings|                 2.0|\n",
      "|02/08/2017|Councilmember|       Adam Medrano|      Adam|  Medrano|  0.9599527127683819|\n",
      "|02/08/2017|Councilmember|   Casey Thomas, II|     Casey|   Thomas|  0.5322122310528132|\n",
      "|02/08/2017|Councilmember|Carolyn King Arnold|   Carolyn|   Arnold| 0.15363550234397028|\n",
      "|02/08/2017|Councilmember| Rickey D. Callahan|    Rickey| Callahan|  0.7028946992580585|\n",
      "|01/11/2017|Councilmember|  Jennifer S. Gates|  Jennifer|    Gates|  0.9319677299452297|\n",
      "|04/25/2018|Councilmember|     Sandy  Greyson|     Sandy|  Greyson|  0.7117556790184294|\n",
      "|04/25/2018|Councilmember| Jennifer S.  Gates|  Jennifer|    Gates|  0.9185129316991855|\n",
      "+----------+-------------+-------------------+----------+---------+--------------------+\n",
      "only showing top 20 rows\n",
      "\n",
      "+----------+--------------------+-----------------+----------+---------+----------+\n",
      "|      DATE|               TITLE|       VOTER_NAME|first_name|last_name|random_val|\n",
      "+----------+--------------------+-----------------+----------+---------+----------+\n",
      "|04/25/2018|Deputy Mayor Pro Tem|     Adam Medrano|      Adam|  Medrano|       0.0|\n",
      "|04/25/2018|       Mayor Pro Tem|Dwaine R. Caraway|    Dwaine|  Caraway|       0.0|\n",
      "|06/20/2018|Deputy Mayor Pro Tem|     Adam Medrano|      Adam|  Medrano|       0.0|\n",
      "|06/20/2018|       Mayor Pro Tem|Dwaine R. Caraway|    Dwaine|  Caraway|       0.0|\n",
      "|06/20/2018|Deputy Mayor Pro Tem|     Adam Medrano|      Adam|  Medrano|       0.0|\n",
      "|06/20/2018|       Mayor Pro Tem|Dwaine R. Caraway|    Dwaine|  Caraway|       0.0|\n",
      "|08/15/2018|Deputy Mayor Pro Tem|     Adam Medrano|      Adam|  Medrano|       0.0|\n",
      "|08/15/2018|Deputy Mayor Pro Tem|     Adam Medrano|      Adam|  Medrano|       0.0|\n",
      "|09/18/2018|Deputy Mayor Pro Tem|     Adam Medrano|      Adam|  Medrano|       0.0|\n",
      "|09/18/2018|       Mayor Pro Tem|Casey  Thomas, II|     Casey|   Thomas|       0.0|\n",
      "|04/25/2018|Deputy Mayor Pro Tem|     Adam Medrano|      Adam|  Medrano|       0.0|\n",
      "|04/25/2018|       Mayor Pro Tem|Dwaine R. Caraway|    Dwaine|  Caraway|       0.0|\n",
      "|04/11/2018|       Mayor Pro Tem|Dwaine R. Caraway|    Dwaine|  Caraway|       0.0|\n",
      "|04/11/2018|Deputy Mayor Pro Tem|     Adam Medrano|      Adam|  Medrano|       0.0|\n",
      "|04/11/2018|       Mayor Pro Tem|Dwaine R. Caraway|    Dwaine|  Caraway|       0.0|\n",
      "|04/11/2018|Deputy Mayor Pro Tem|     Adam Medrano|      Adam|  Medrano|       0.0|\n",
      "|04/11/2018|       Mayor Pro Tem|Dwaine R. Caraway|    Dwaine|  Caraway|       0.0|\n",
      "|06/13/2018|Deputy Mayor Pro Tem|     Adam Medrano|      Adam|  Medrano|       0.0|\n",
      "|06/13/2018|       Mayor Pro Tem|Dwaine R. Caraway|    Dwaine|  Caraway|       0.0|\n",
      "|04/11/2018|Deputy Mayor Pro Tem|     Adam Medrano|      Adam|  Medrano|       0.0|\n",
      "+----------+--------------------+-----------------+----------+---------+----------+\n",
      "only showing top 20 rows\n",
      "\n"
     ]
    }
   ],
   "source": [
    "# Add a column to voter_df for a voter based on their position\n",
    "voter_df = voter_df.withColumn('random_val',\n",
    "                               F.when(voter_df.TITLE == 'Councilmember', F.rand())\n",
    "                               .when(voter_df.TITLE ==\"Mayor\", 2)\n",
    "                               .otherwise(0))\n",
    "\n",
    "# Show some of the DataFrame rows\n",
    "voter_df.show()\n",
    "\n",
    "# Use the .filter() clause with random_val\n",
    "voter_df.filter(voter_df.random_val==0).show()"
   ]
  },
  {
   "cell_type": "markdown",
   "metadata": {},
   "source": [
    "### User defined functions"
   ]
  },
  {
   "cell_type": "code",
   "execution_count": 21,
   "metadata": {},
   "outputs": [],
   "source": [
    "def getFirstAndMiddle(names):\n",
    "  # Return a space separated string of names\n",
    "  return ' '.join(names[:-1])\n",
    "\n"
   ]
  },
  {
   "cell_type": "code",
   "execution_count": 22,
   "metadata": {},
   "outputs": [
    {
     "name": "stdout",
     "output_type": "stream",
     "text": [
      "+----------+-------------+-------------------+----------+---------+--------------------+\n",
      "|      DATE|        TITLE|         VOTER_NAME|first_name|last_name|          random_val|\n",
      "+----------+-------------+-------------------+----------+---------+--------------------+\n",
      "|02/08/2017|Councilmember|  Jennifer S. Gates|  Jennifer|    Gates|  0.4091010507408096|\n",
      "|02/08/2017|Councilmember| Philip T. Kingston|    Philip| Kingston|  0.7643909206693211|\n",
      "|02/08/2017|        Mayor|Michael S. Rawlings|   Michael| Rawlings|                 2.0|\n",
      "|02/08/2017|Councilmember|       Adam Medrano|      Adam|  Medrano|   0.142597522409193|\n",
      "|02/08/2017|Councilmember|   Casey Thomas, II|     Casey|   Thomas|  0.6878619667881577|\n",
      "|02/08/2017|Councilmember|Carolyn King Arnold|   Carolyn|   Arnold|  0.9561925518938317|\n",
      "|02/08/2017|Councilmember|       Scott Griggs|     Scott|   Griggs| 0.22559471745649806|\n",
      "|02/08/2017|Councilmember|   B. Adam  McGough|        B.|  McGough|  0.9719414297898409|\n",
      "|02/08/2017|Councilmember|       Lee Kleinman|       Lee| Kleinman|0.044472756057393203|\n",
      "|02/08/2017|Councilmember|      Sandy Greyson|     Sandy|  Greyson| 0.34965570226887177|\n",
      "|02/08/2017|Councilmember|  Jennifer S. Gates|  Jennifer|    Gates|  0.4231225009947279|\n",
      "|02/08/2017|Councilmember| Philip T. Kingston|    Philip| Kingston|  0.6289898100208944|\n",
      "|02/08/2017|        Mayor|Michael S. Rawlings|   Michael| Rawlings|                 2.0|\n",
      "|02/08/2017|Councilmember|       Adam Medrano|      Adam|  Medrano|  0.9599527127683819|\n",
      "|02/08/2017|Councilmember|   Casey Thomas, II|     Casey|   Thomas|  0.5322122310528132|\n",
      "|02/08/2017|Councilmember|Carolyn King Arnold|   Carolyn|   Arnold| 0.15363550234397028|\n",
      "|02/08/2017|Councilmember| Rickey D. Callahan|    Rickey| Callahan|  0.7028946992580585|\n",
      "|01/11/2017|Councilmember|  Jennifer S. Gates|  Jennifer|    Gates|  0.9319677299452297|\n",
      "|04/25/2018|Councilmember|     Sandy  Greyson|     Sandy|  Greyson|  0.7117556790184294|\n",
      "|04/25/2018|Councilmember| Jennifer S.  Gates|  Jennifer|    Gates|  0.9185129316991855|\n",
      "+----------+-------------+-------------------+----------+---------+--------------------+\n",
      "only showing top 20 rows\n",
      "\n"
     ]
    }
   ],
   "source": [
    "voter_df.show()"
   ]
  },
  {
   "cell_type": "code",
   "execution_count": 23,
   "metadata": {},
   "outputs": [
    {
     "name": "stdout",
     "output_type": "stream",
     "text": [
      "+----------+-------------+-------------------+----------+---------+--------------------+\n",
      "|      DATE|        TITLE|         VOTER_NAME|first_name|last_name|          random_val|\n",
      "+----------+-------------+-------------------+----------+---------+--------------------+\n",
      "|02/08/2017|Councilmember|  Jennifer S. Gates|  Jennifer|    Gates|  0.4091010507408096|\n",
      "|02/08/2017|Councilmember| Philip T. Kingston|    Philip| Kingston|  0.7643909206693211|\n",
      "|02/08/2017|        Mayor|Michael S. Rawlings|   Michael| Rawlings|                 2.0|\n",
      "|02/08/2017|Councilmember|       Adam Medrano|      Adam|  Medrano|   0.142597522409193|\n",
      "|02/08/2017|Councilmember|   Casey Thomas, II|     Casey|   Thomas|  0.6878619667881577|\n",
      "|02/08/2017|Councilmember|Carolyn King Arnold|   Carolyn|   Arnold|  0.9561925518938317|\n",
      "|02/08/2017|Councilmember|       Scott Griggs|     Scott|   Griggs| 0.22559471745649806|\n",
      "|02/08/2017|Councilmember|   B. Adam  McGough|        B.|  McGough|  0.9719414297898409|\n",
      "|02/08/2017|Councilmember|       Lee Kleinman|       Lee| Kleinman|0.044472756057393203|\n",
      "|02/08/2017|Councilmember|      Sandy Greyson|     Sandy|  Greyson| 0.34965570226887177|\n",
      "|02/08/2017|Councilmember|  Jennifer S. Gates|  Jennifer|    Gates|  0.4231225009947279|\n",
      "|02/08/2017|Councilmember| Philip T. Kingston|    Philip| Kingston|  0.6289898100208944|\n",
      "|02/08/2017|        Mayor|Michael S. Rawlings|   Michael| Rawlings|                 2.0|\n",
      "|02/08/2017|Councilmember|       Adam Medrano|      Adam|  Medrano|  0.9599527127683819|\n",
      "|02/08/2017|Councilmember|   Casey Thomas, II|     Casey|   Thomas|  0.5322122310528132|\n",
      "|02/08/2017|Councilmember|Carolyn King Arnold|   Carolyn|   Arnold| 0.15363550234397028|\n",
      "|02/08/2017|Councilmember| Rickey D. Callahan|    Rickey| Callahan|  0.7028946992580585|\n",
      "|01/11/2017|Councilmember|  Jennifer S. Gates|  Jennifer|    Gates|  0.9319677299452297|\n",
      "|04/25/2018|Councilmember|     Sandy  Greyson|     Sandy|  Greyson|  0.7117556790184294|\n",
      "|04/25/2018|Councilmember| Jennifer S.  Gates|  Jennifer|    Gates|  0.9185129316991855|\n",
      "+----------+-------------+-------------------+----------+---------+--------------------+\n",
      "only showing top 20 rows\n",
      "\n"
     ]
    }
   ],
   "source": [
    "voter_df1=voter_df.alias(\"voter_df1\")\n",
    "voter_df1.show()"
   ]
  },
  {
   "cell_type": "code",
   "execution_count": 24,
   "metadata": {},
   "outputs": [
    {
     "name": "stdout",
     "output_type": "stream",
     "text": [
      "+----------+-------------+-------------------+----------+---------+--------------------+--------------------+\n",
      "|      DATE|        TITLE|         VOTER_NAME|first_name|last_name|          random_val|              splits|\n",
      "+----------+-------------+-------------------+----------+---------+--------------------+--------------------+\n",
      "|02/08/2017|Councilmember|  Jennifer S. Gates|  Jennifer|    Gates|  0.4091010507408096|[Jennifer, S., Ga...|\n",
      "|02/08/2017|Councilmember| Philip T. Kingston|    Philip| Kingston|  0.7643909206693211|[Philip, T., King...|\n",
      "|02/08/2017|        Mayor|Michael S. Rawlings|   Michael| Rawlings|                 2.0|[Michael, S., Raw...|\n",
      "|02/08/2017|Councilmember|       Adam Medrano|      Adam|  Medrano|   0.142597522409193|     [Adam, Medrano]|\n",
      "|02/08/2017|Councilmember|   Casey Thomas, II|     Casey|   Thomas|  0.6878619667881577|     [Casey, Thomas]|\n",
      "|02/08/2017|Councilmember|Carolyn King Arnold|   Carolyn|   Arnold|  0.9561925518938317|[Carolyn, King, A...|\n",
      "|02/08/2017|Councilmember|       Scott Griggs|     Scott|   Griggs| 0.22559471745649806|     [Scott, Griggs]|\n",
      "|02/08/2017|Councilmember|   B. Adam  McGough|        B.|  McGough|  0.9719414297898409| [B., Adam, McGough]|\n",
      "|02/08/2017|Councilmember|       Lee Kleinman|       Lee| Kleinman|0.044472756057393203|     [Lee, Kleinman]|\n",
      "|02/08/2017|Councilmember|      Sandy Greyson|     Sandy|  Greyson| 0.34965570226887177|    [Sandy, Greyson]|\n",
      "|02/08/2017|Councilmember|  Jennifer S. Gates|  Jennifer|    Gates|  0.4231225009947279|[Jennifer, S., Ga...|\n",
      "|02/08/2017|Councilmember| Philip T. Kingston|    Philip| Kingston|  0.6289898100208944|[Philip, T., King...|\n",
      "|02/08/2017|        Mayor|Michael S. Rawlings|   Michael| Rawlings|                 2.0|[Michael, S., Raw...|\n",
      "|02/08/2017|Councilmember|       Adam Medrano|      Adam|  Medrano|  0.9599527127683819|     [Adam, Medrano]|\n",
      "|02/08/2017|Councilmember|   Casey Thomas, II|     Casey|   Thomas|  0.5322122310528132|     [Casey, Thomas]|\n",
      "|02/08/2017|Councilmember|Carolyn King Arnold|   Carolyn|   Arnold| 0.15363550234397028|[Carolyn, King, A...|\n",
      "|02/08/2017|Councilmember| Rickey D. Callahan|    Rickey| Callahan|  0.7028946992580585|[Rickey, D., Call...|\n",
      "|01/11/2017|Councilmember|  Jennifer S. Gates|  Jennifer|    Gates|  0.9319677299452297|[Jennifer, S., Ga...|\n",
      "|04/25/2018|Councilmember|     Sandy  Greyson|     Sandy|  Greyson|  0.7117556790184294|    [Sandy, Greyson]|\n",
      "|04/25/2018|Councilmember| Jennifer S.  Gates|  Jennifer|    Gates|  0.9185129316991855|[Jennifer, S., Ga...|\n",
      "+----------+-------------+-------------------+----------+---------+--------------------+--------------------+\n",
      "only showing top 20 rows\n",
      "\n"
     ]
    }
   ],
   "source": [
    "from pyspark.sql.types import StringType\n",
    "from pyspark.sql.functions import udf\n",
    "\n"
   ]
  },
  {
   "cell_type": "code",
   "execution_count": 26,
   "metadata": {},
   "outputs": [
    {
     "name": "stdout",
     "output_type": "stream",
     "text": [
      "+----------+-------------+-------------------+----------+---------+--------------------+-----------------+\n",
      "|      DATE|        TITLE|         VOTER_NAME|first_name|last_name|          random_val|first_middle_name|\n",
      "+----------+-------------+-------------------+----------+---------+--------------------+-----------------+\n",
      "|02/08/2017|Councilmember|  Jennifer S. Gates|  Jennifer|    Gates|  0.4091010507408096|      Jennifer S.|\n",
      "|02/08/2017|Councilmember| Philip T. Kingston|    Philip| Kingston|  0.7643909206693211|        Philip T.|\n",
      "|02/08/2017|        Mayor|Michael S. Rawlings|   Michael| Rawlings|                 2.0|       Michael S.|\n",
      "|02/08/2017|Councilmember|       Adam Medrano|      Adam|  Medrano|   0.142597522409193|             Adam|\n",
      "|02/08/2017|Councilmember|   Casey Thomas, II|     Casey|   Thomas|  0.6878619667881577|            Casey|\n",
      "|02/08/2017|Councilmember|Carolyn King Arnold|   Carolyn|   Arnold|  0.9561925518938317|     Carolyn King|\n",
      "|02/08/2017|Councilmember|       Scott Griggs|     Scott|   Griggs| 0.22559471745649806|            Scott|\n",
      "|02/08/2017|Councilmember|   B. Adam  McGough|        B.|  McGough|  0.9719414297898409|          B. Adam|\n",
      "|02/08/2017|Councilmember|       Lee Kleinman|       Lee| Kleinman|0.044472756057393203|              Lee|\n",
      "|02/08/2017|Councilmember|      Sandy Greyson|     Sandy|  Greyson| 0.34965570226887177|            Sandy|\n",
      "|02/08/2017|Councilmember|  Jennifer S. Gates|  Jennifer|    Gates|  0.4231225009947279|      Jennifer S.|\n",
      "|02/08/2017|Councilmember| Philip T. Kingston|    Philip| Kingston|  0.6289898100208944|        Philip T.|\n",
      "|02/08/2017|        Mayor|Michael S. Rawlings|   Michael| Rawlings|                 2.0|       Michael S.|\n",
      "|02/08/2017|Councilmember|       Adam Medrano|      Adam|  Medrano|  0.9599527127683819|             Adam|\n",
      "|02/08/2017|Councilmember|   Casey Thomas, II|     Casey|   Thomas|  0.5322122310528132|            Casey|\n",
      "|02/08/2017|Councilmember|Carolyn King Arnold|   Carolyn|   Arnold| 0.15363550234397028|     Carolyn King|\n",
      "|02/08/2017|Councilmember| Rickey D. Callahan|    Rickey| Callahan|  0.7028946992580585|        Rickey D.|\n",
      "|01/11/2017|Councilmember|  Jennifer S. Gates|  Jennifer|    Gates|  0.9319677299452297|      Jennifer S.|\n",
      "|04/25/2018|Councilmember|     Sandy  Greyson|     Sandy|  Greyson|  0.7117556790184294|            Sandy|\n",
      "|04/25/2018|Councilmember| Jennifer S.  Gates|  Jennifer|    Gates|  0.9185129316991855|      Jennifer S.|\n",
      "+----------+-------------+-------------------+----------+---------+--------------------+-----------------+\n",
      "only showing top 20 rows\n",
      "\n"
     ]
    }
   ],
   "source": [
    "voter_df1=voter_df.alias(\"voter_df1\")\n",
    "voter_df1 = voter_df1.withColumn('splits1', F.split(voter_df1.VOTER_NAME, ','))\n",
    "voter_df1 = voter_df1.withColumn('splits1', voter_df1.splits1.getItem(0))\n",
    "voter_df1 = voter_df1.withColumn('splits', F.split(voter_df1.splits1, '\\s+')).drop('splits1')\n",
    "\n",
    "\n",
    "udf1 = udf(lambda x:\" \".join(x[:-1]),StringType())\n",
    "voter_df1.withColumn('first_middle_name',udf1('splits')).drop('splits').show() "
   ]
  },
  {
   "cell_type": "code",
   "execution_count": 27,
   "metadata": {
    "scrolled": false
   },
   "outputs": [
    {
     "name": "stdout",
     "output_type": "stream",
     "text": [
      "+----------+-------------+-------------------+---------+--------------------+---------------------+\n",
      "|      DATE|        TITLE|         VOTER_NAME|last_name|          random_val|first_and_middle_name|\n",
      "+----------+-------------+-------------------+---------+--------------------+---------------------+\n",
      "|02/08/2017|Councilmember|  Jennifer S. Gates|    Gates|  0.4091010507408096|          Jennifer S.|\n",
      "|02/08/2017|Councilmember| Philip T. Kingston| Kingston|  0.7643909206693211|            Philip T.|\n",
      "|02/08/2017|        Mayor|Michael S. Rawlings| Rawlings|                 2.0|           Michael S.|\n",
      "|02/08/2017|Councilmember|       Adam Medrano|  Medrano|   0.142597522409193|                 Adam|\n",
      "|02/08/2017|Councilmember|   Casey Thomas, II|   Thomas|  0.6878619667881577|                Casey|\n",
      "|02/08/2017|Councilmember|Carolyn King Arnold|   Arnold|  0.9561925518938317|         Carolyn King|\n",
      "|02/08/2017|Councilmember|       Scott Griggs|   Griggs| 0.22559471745649806|                Scott|\n",
      "|02/08/2017|Councilmember|   B. Adam  McGough|  McGough|  0.9719414297898409|              B. Adam|\n",
      "|02/08/2017|Councilmember|       Lee Kleinman| Kleinman|0.044472756057393203|                  Lee|\n",
      "|02/08/2017|Councilmember|      Sandy Greyson|  Greyson| 0.34965570226887177|                Sandy|\n",
      "|02/08/2017|Councilmember|  Jennifer S. Gates|    Gates|  0.4231225009947279|          Jennifer S.|\n",
      "|02/08/2017|Councilmember| Philip T. Kingston| Kingston|  0.6289898100208944|            Philip T.|\n",
      "|02/08/2017|        Mayor|Michael S. Rawlings| Rawlings|                 2.0|           Michael S.|\n",
      "|02/08/2017|Councilmember|       Adam Medrano|  Medrano|  0.9599527127683819|                 Adam|\n",
      "|02/08/2017|Councilmember|   Casey Thomas, II|   Thomas|  0.5322122310528132|                Casey|\n",
      "|02/08/2017|Councilmember|Carolyn King Arnold|   Arnold| 0.15363550234397028|         Carolyn King|\n",
      "|02/08/2017|Councilmember| Rickey D. Callahan| Callahan|  0.7028946992580585|            Rickey D.|\n",
      "|01/11/2017|Councilmember|  Jennifer S. Gates|    Gates|  0.9319677299452297|          Jennifer S.|\n",
      "|04/25/2018|Councilmember|     Sandy  Greyson|  Greyson|  0.7117556790184294|                Sandy|\n",
      "|04/25/2018|Councilmember| Jennifer S.  Gates|    Gates|  0.9185129316991855|          Jennifer S.|\n",
      "+----------+-------------+-------------------+---------+--------------------+---------------------+\n",
      "only showing top 20 rows\n",
      "\n"
     ]
    }
   ],
   "source": [
    "def getFirstAndMiddle(names):\n",
    "  # Return a space separated string of names\n",
    "    return ' '.join(names[:-1])\n",
    "\n",
    "# Define the method as a UDF\n",
    "udfFirstAndMiddle = F.udf(getFirstAndMiddle, StringType())\n",
    "\n",
    "# Create a new column using your UDF\n",
    "voter_df1 = voter_df1.withColumn('first_and_middle_name', udfFirstAndMiddle(voter_df1.splits))\n",
    "\n",
    "# Show the DataFrame\n",
    "#voter_df1.show()\n",
    "# Drop the unecessary columns then show the DataFrame\n",
    "voter_df2 = voter_df1.drop('first_name')\n",
    "voter_df2 = voter_df2.drop('splits')\n",
    "voter_df2.show()"
   ]
  },
  {
   "cell_type": "markdown",
   "metadata": {},
   "source": [
    "### Partitioning and lazy processing\n",
    "#### Adding an ID Field"
   ]
  },
  {
   "cell_type": "code",
   "execution_count": 30,
   "metadata": {
    "scrolled": true
   },
   "outputs": [
    {
     "name": "stdout",
     "output_type": "stream",
     "text": [
      "\n",
      "There are 43912 rows in the voter_df DataFrame.\n",
      "\n",
      "+----------+--------------------+-------------------+----------+---------+-------------------+------+\n",
      "|      DATE|               TITLE|         VOTER_NAME|first_name|last_name|         random_val|ROW_ID|\n",
      "+----------+--------------------+-------------------+----------+---------+-------------------+------+\n",
      "|11/20/2018|       Councilmember|      Mark  Clayton|      Mark|  Clayton| 0.7565866369489107| 43911|\n",
      "|11/20/2018|       Councilmember|     Tennell Atkins|   Tennell|   Atkins| 0.4250827913209053| 43910|\n",
      "|11/20/2018|       Councilmember|       Kevin Felder|     Kevin|   Felder| 0.5387614750756309| 43909|\n",
      "|11/20/2018|       Councilmember|       Omar Narvaez|      Omar|  Narvaez| 0.5098572588216453| 43908|\n",
      "|11/20/2018|       Councilmember|Rickey D.  Callahan|    Rickey| Callahan|0.38261558448844435| 43907|\n",
      "|11/20/2018|       Mayor Pro Tem|  Casey  Thomas, II|     Casey|   Thomas|                0.0| 43906|\n",
      "|11/20/2018|Deputy Mayor Pro Tem|       Adam Medrano|      Adam|  Medrano|                0.0| 43905|\n",
      "|11/20/2018|               Mayor|Michael S. Rawlings|   Michael| Rawlings|                2.0| 43904|\n",
      "|11/20/2018|       Councilmember|Philip T.  Kingston|    Philip| Kingston| 0.6604662379700839| 43903|\n",
      "|11/20/2018|       Councilmember| Jennifer S.  Gates|  Jennifer|    Gates|0.05970797041215403| 43902|\n",
      "+----------+--------------------+-------------------+----------+---------+-------------------+------+\n",
      "only showing top 10 rows\n",
      "\n"
     ]
    }
   ],
   "source": [
    "# Select all the unique council voters\n",
    "voter_df1 = voter_df.select(voter_df[\"VOTER_NAME\"]).distinct()\n",
    "\n",
    "# Count the rows in voter_df\n",
    "print(\"\\nThere are %d rows in the voter_df DataFrame.\\n\" % voter_df.count())\n",
    "\n",
    "# Add a ROW_ID\n",
    "voter_df = voter_df.withColumn('ROW_ID', F.monotonically_increasing_id())\n",
    "\n",
    "# Show the rows with 10 highest IDs in the set\n",
    "voter_df.orderBy(voter_df.ROW_ID.desc()).show(10)"
   ]
  }
 ],
 "metadata": {
  "hide_input": false,
  "kernelspec": {
   "display_name": "Python 3.7.7 64-bit",
   "language": "python",
   "name": "python37764bit31c54662e790487c9a6cdc87294e2b12"
  },
  "language_info": {
   "codemirror_mode": {
    "name": "ipython",
    "version": 3
   },
   "file_extension": ".py",
   "mimetype": "text/x-python",
   "name": "python",
   "nbconvert_exporter": "python",
   "pygments_lexer": "ipython3",
   "version": "3.7.7"
  }
 },
 "nbformat": 4,
 "nbformat_minor": 4
}
