{
 "cells": [
  {
   "cell_type": "markdown",
   "metadata": {},
   "source": [
    "#### Data Problems:\n",
    "- Missing fields, \n",
    "- Bizarre formatting, \n",
    "- Orders of magnitude more data. \n",
    "\n",
    "#### Possibletasksindatacleaning:\n",
    "- Reformatting or replacing text\n",
    "- Performing calculations\n",
    "- Removing garbage or incomplete data\n",
    "\n",
    "#### Spark Schemas \n",
    "- Define the format of  DataFrame \n",
    "- Various data types:\n",
    "    - Strings,\n",
    "    - dates,\n",
    "    - integers,\n",
    "    - arrays\n",
    "    \n",
    "- Can filter garbage data during import \n",
    "- Improves read performance\n",
    "\n",
    "#### Note: The primary limit to Spark's abilities is the level of RAM in the Spark cluster."
   ]
  },
  {
   "cell_type": "code",
   "execution_count": 1,
   "metadata": {},
   "outputs": [],
   "source": [
    "import os\n",
    "import sys\n",
    "\n",
    "os.environ['SPARK_HOME'] = \"C:/Spark\"\n",
    "sys.path.append(\"C:/Spark/spark-3.1.2-bin-hadoop3.2/python/\")\n",
    "\n"
   ]
  },
  {
   "cell_type": "code",
   "execution_count": 2,
   "metadata": {},
   "outputs": [
    {
     "name": "stdout",
     "output_type": "stream",
     "text": [
      "<class 'pyspark.context.SparkContext'>\n",
      "<property object at 0x000000306C18C368>\n"
     ]
    }
   ],
   "source": [
    "from pyspark import  SparkContext as sc# And then try to import SparkContext.\n",
    "# Verify SparkContext\n",
    "print(sc)\n",
    "\n",
    "# Print Spark version\n",
    "print(sc.version)"
   ]
  },
  {
   "cell_type": "code",
   "execution_count": 3,
   "metadata": {},
   "outputs": [
    {
     "name": "stdout",
     "output_type": "stream",
     "text": [
      "C:/Spark\n",
      "C:/Spark\\./bin/spark-submit\n",
      "<pyspark.sql.session.SparkSession object at 0x000000306C3F7F48>\n"
     ]
    }
   ],
   "source": [
    "#import os\n",
    "print(os.environ.get(\"SPARK_HOME\"))\n",
    "\n",
    "print(os.path.join(os.environ.get(\"SPARK_HOME\"), './bin/spark-submit'))\n",
    "\n",
    "#gateway = JavaGateway()\n",
    "\n",
    "os.environ['SPARK_HOME']=\"C:/Spark/spark-3.1.2-bin-hadoop3.2\"\n",
    "os.environ['JAVA_HOME']=\"C:/Program Files/Java/jdk1.8.0_144\"\n",
    "sys.path.append(\"C:/Spark/spark-3.1.2-bin-hadoop3.2/python\")\n",
    "os.environ['HADOOP_HOME']=\"C:/Hadoop\"\n",
    "\n",
    "from pyspark import SparkContext\n",
    "from pyspark import SparkConf\n",
    "\n",
    "import pyspark # only run after findspark.init()\n",
    "from pyspark.sql.functions import to_date, col\n",
    "from pyspark.sql import SparkSession\n",
    "spark = SparkSession.builder.getOrCreate()\n",
    "# Print spark\n",
    "print(spark)\n",
    "spark.conf.set(\"spark.sql.parquet.compression.codec\", \"gzip\")"
   ]
  },
  {
   "cell_type": "code",
   "execution_count": 4,
   "metadata": {},
   "outputs": [],
   "source": [
    "\n",
    "processFile=('..\\\\PySpark')\n",
    "fileName =(os.listdir(processFile))\n",
    "file_path_total=[]\n",
    "def file_path(fileName):\n",
    "    #processFile=('..\\\\PySpark')\n",
    "    #fileName =(os.listdir(processFile))\n",
    "    for file in fileName:\n",
    "        if \".csv\" in file:\n",
    "            file_path = \"%s/%s\" % (processFile, file)\n",
    "            file_path_total.append(file_path)\n",
    "    return file_path_total"
   ]
  },
  {
   "cell_type": "markdown",
   "metadata": {},
   "source": [
    "### SparkSchema\n",
    "`StructField(String name, DataType dataType, boolean nullable, Metadata metadata) `"
   ]
  },
  {
   "cell_type": "code",
   "execution_count": 5,
   "metadata": {},
   "outputs": [],
   "source": [
    "import pyspark.sql.types\n",
    "from pyspark.sql.types import *\n",
    "#from pyspark.sql.types import StructType,StructField\n",
    "\n",
    "# Define a new schema using the StructType method\n",
    "people_schema = StructType([\n",
    "  # Define a StructField for each field\n",
    "  StructField('name', StringType(), False),\n",
    "  StructField('age', IntegerType(), False),\n",
    "  StructField('city', StringType(), False)\n",
    "])"
   ]
  },
  {
   "cell_type": "markdown",
   "metadata": {},
   "source": [
    "#### Immutability and lazy processing\n",
    "\n",
    "**Immutability:**\n",
    "- Immutable variables are:\n",
    "    - A component of functional programming \n",
    "    - Define once \n",
    "    - Unable to be directly modied \n",
    "    - Re-created if reassigned \n",
    "    - Able to be share efficiently\n",
    "\n",
    "Spark takes advantage of data immutability to efficiently share / create new data representations throughout the cluster.\n",
    "\n",
    "#### Using lazy processing\n",
    "Lazy processing operations will usually return in about the same amount of time regardless of the actual quantity of data. Remember that this is due to Spark not performing any transformations until an action is requested.\n",
    "\n",
    "For this exercise, we'll be defining a Data Frame (aa_dfw_df) and add a couple transformations. Note the amount of time required for the transformations to complete when defined vs when the data is actually queried. These differences may be short, but they will be noticeable. When working with a full Spark cluster with larger quantities of data the difference will be more apparent."
   ]
  },
  {
   "cell_type": "code",
   "execution_count": 6,
   "metadata": {
    "scrolled": false
   },
   "outputs": [
    {
     "name": "stdout",
     "output_type": "stream",
     "text": [
      "+-----------------+-------------+-------------------+-----------------------------+-------+\n",
      "|Date (MM/DD/YYYY)|Flight Number|Destination Airport|Actual elapsed time (Minutes)|airport|\n",
      "+-----------------+-------------+-------------------+-----------------------------+-------+\n",
      "|       01/01/2017|         0005|                HNL|                          537|    hnl|\n",
      "|       01/01/2017|         0007|                OGG|                          498|    ogg|\n",
      "|       01/01/2017|         0037|                SFO|                          241|    sfo|\n",
      "|       01/01/2017|         0043|                DTW|                          134|    dtw|\n",
      "|       01/01/2017|         0051|                STL|                           88|    stl|\n",
      "+-----------------+-------------+-------------------+-----------------------------+-------+\n",
      "only showing top 5 rows\n",
      "\n"
     ]
    }
   ],
   "source": [
    "from pyspark.sql import functions as F\n",
    "aa_dfw_df = spark.read.format('csv').options(Header=True).load('AA_DFW_2017_Departures_Short.csv.gz')\n",
    "aa_dfw_df = aa_dfw_df.withColumn('airport', F.lower(aa_dfw_df['Destination Airport']))\n",
    "aa_dfw_df.show(5)"
   ]
  },
  {
   "cell_type": "code",
   "execution_count": 7,
   "metadata": {},
   "outputs": [
    {
     "name": "stdout",
     "output_type": "stream",
     "text": [
      "+-----------------+-------------+-----------------------------+-------+\n",
      "|Date (MM/DD/YYYY)|Flight Number|Actual elapsed time (Minutes)|airport|\n",
      "+-----------------+-------------+-----------------------------+-------+\n",
      "|       01/01/2017|         0005|                          537|    hnl|\n",
      "|       01/01/2017|         0007|                          498|    ogg|\n",
      "|       01/01/2017|         0037|                          241|    sfo|\n",
      "|       01/01/2017|         0043|                          134|    dtw|\n",
      "|       01/01/2017|         0051|                           88|    stl|\n",
      "+-----------------+-------------+-----------------------------+-------+\n",
      "only showing top 5 rows\n",
      "\n"
     ]
    }
   ],
   "source": [
    "\n",
    "# Drop the Destination Airport column\n",
    "aa_dfw_df = aa_dfw_df.drop(aa_dfw_df['Destination Airport'])\n",
    "aa_dfw_df.show(5)"
   ]
  },
  {
   "cell_type": "markdown",
   "metadata": {},
   "source": [
    "#### Understanding Parquet\n",
    "- a columnar data store, allowing Spark to use predicate pushdown. \n",
    "- means Spark will only process the data necessary to complete the operations you define versus reading the entire dataset. \n",
    "\n",
    "=>This gives Spark more flexibility in accessing the data and often drastically improves performance on large datasets."
   ]
  },
  {
   "cell_type": "code",
   "execution_count": 8,
   "metadata": {},
   "outputs": [
    {
     "name": "stdout",
     "output_type": "stream",
     "text": [
      "+----------+------------------+---------+--------+-------------+-------------------+---------+------------------+-----------------------+------------------+--------------------+\n",
      "|      DATE|AGENDA_ITEM_NUMBER|ITEM_TYPE|DISTRICT|        TITLE|         VOTER NAME|VOTE CAST|FINAL ACTION TAKEN|AGENDA ITEM DESCRIPTION|         AGENDA_ID|             VOTE_ID|\n",
      "+----------+------------------+---------+--------+-------------+-------------------+---------+------------------+-----------------------+------------------+--------------------+\n",
      "|02/08/2017|                 1|   AGENDA|      13|Councilmember|  Jennifer S. Gates|      N/A|  NO ACTION NEEDED|          Call to Order|020817__Special__1|020817__Special__...|\n",
      "|02/08/2017|                 1|   AGENDA|      14|Councilmember| Philip T. Kingston|      N/A|  NO ACTION NEEDED|          Call to Order|020817__Special__1|020817__Special__...|\n",
      "|02/08/2017|                 1|   AGENDA|      15|        Mayor|Michael S. Rawlings|      N/A|  NO ACTION NEEDED|          Call to Order|020817__Special__1|020817__Special__...|\n",
      "|02/08/2017|                 1|   AGENDA|       2|Councilmember|       Adam Medrano|      N/A|  NO ACTION NEEDED|          Call to Order|020817__Special__1|020817__Special__1_2|\n",
      "|02/08/2017|                 1|   AGENDA|       3|Councilmember|   Casey Thomas, II|      N/A|  NO ACTION NEEDED|          Call to Order|020817__Special__1|020817__Special__1_3|\n",
      "+----------+------------------+---------+--------+-------------+-------------------+---------+------------------+-----------------------+------------------+--------------------+\n",
      "only showing top 5 rows\n",
      "\n"
     ]
    }
   ],
   "source": [
    "from pyspark.sql import functions as F\n",
    "voter_df_org = spark.read.format('csv').options(Header=True).load('DallasCouncilVotes.csv.gz')\n",
    "\n",
    "voter_df_org.show(5)"
   ]
  },
  {
   "cell_type": "markdown",
   "metadata": {},
   "source": [
    "### Cleaning voter_name\n",
    "`voter_name`:\n",
    "- contains the date of the vote \n",
    "- the name and position of the voter.\n",
    "\n",
    "=> clean this data so it can later be integrated into some desired reports. \n",
    "**Tasks\":**\n",
    "    - to remove any null entries or odd characters and \n",
    "    - return a specific set of voters where can validate their information."
   ]
  },
  {
   "cell_type": "code",
   "execution_count": 9,
   "metadata": {},
   "outputs": [
    {
     "name": "stdout",
     "output_type": "stream",
     "text": [
      "+--------------------------------------------------------------------------------------------------------------------------------------------------------------------------------------------------------------------------------------------------------------------------------------------------------------------------------------------------------------------------------------------------------------------------+\n",
      "|VOTER_NAME                                                                                                                                                                                                                                                                                                                                                                                                                |\n",
      "+--------------------------------------------------------------------------------------------------------------------------------------------------------------------------------------------------------------------------------------------------------------------------------------------------------------------------------------------------------------------------------------------------------------------------+\n",
      "|Tennell Atkins                                                                                                                                                                                                                                                                                                                                                                                                            |\n",
      "|  the  final   2018 Assessment Plan and the 2018 Assessment  Roll  (to  be  kept  on  file  with  the  City  Secretary);  establishing  classifications  for   the   apportionment   of   costs and the methods of assessing special assessments for the services and improvements to property in the District;  closing  the  hearing  and  levying  a  special  assessment  on  property  in  the  District             |\n",
      "|Scott Griggs                                                                                                                                                                                                                                                                                                                                                                                                              |\n",
      "|Scott  Griggs                                                                                                                                                                                                                                                                                                                                                                                                             |\n",
      "|Sandy Greyson                                                                                                                                                                                                                                                                                                                                                                                                             |\n",
      "|Michael S. Rawlings                                                                                                                                                                                                                                                                                                                                                                                                       |\n",
      "| the final 2018 Assessment Plan and the 2018 Assessment  Roll  (to  be  kept  on  file  with  the  City  Secretary);  establishing  classifications  for  the   apportionment   of   costs and  the  methods  of  assessing  special  assessments  on  Dallas  hotels  with    100 or more rooms                                                                                                                          |\n",
      "|Kevin Felder                                                                                                                                                                                                                                                                                                                                                                                                              |\n",
      "|Adam Medrano                                                                                                                                                                                                                                                                                                                                                                                                              |\n",
      "|null                                                                                                                                                                                                                                                                                                                                                                                                                      |\n",
      "|   the   final  2018 Assessment  Plan  and  the  2018 Assessment  Roll  (to  be  kept  on  file   with the City Secretary); establishing classifications  for  the  apportionment  of  costs  and  the  methods  of  assessing  special  assessments  for  the  services  and  improvements  to  property  in  the  District;  closing  the  hearing  and  levying  a special  assessment  on  property  in  the  District|\n",
      "|011018__42                                                                                                                                                                                                                                                                                                                                                                                                                |\n",
      "|Casey Thomas, II                                                                                                                                                                                                                                                                                                                                                                                                          |\n",
      "|Mark  Clayton                                                                                                                                                                                                                                                                                                                                                                                                             |\n",
      "|Casey  Thomas, II                                                                                                                                                                                                                                                                                                                                                                                                         |\n",
      "|Sandy  Greyson                                                                                                                                                                                                                                                                                                                                                                                                            |\n",
      "|Mark Clayton                                                                                                                                                                                                                                                                                                                                                                                                              |\n",
      "|Jennifer S.  Gates                                                                                                                                                                                                                                                                                                                                                                                                        |\n",
      "|Tiffinni A. Young                                                                                                                                                                                                                                                                                                                                                                                                         |\n",
      "|  the  final  2018 Assessment  Plan   and   the   2018 Assessment   Roll  (to  be  kept  on  file  with  the  City  Secretary);  establishing   classifications  for the apportionment of costs and the  methods  of  assessing  special  assessments for the services and improvements  to  property  in  the  District;  closing the hearing and  levying  a  special  assessment  on  property  in  the  District      |\n",
      "+--------------------------------------------------------------------------------------------------------------------------------------------------------------------------------------------------------------------------------------------------------------------------------------------------------------------------------------------------------------------------------------------------------------------------+\n",
      "only showing top 20 rows\n",
      "\n"
     ]
    }
   ],
   "source": [
    "# Show the distinct VOTER_NAME entries\n",
    "voter_df_org= voter_df_org.withColumnRenamed(\"VOTER NAME\",\"VOTER_NAME\")\n",
    "voter_df_org= voter_df_org[\"DATE\",\"TITLE\",\"VOTER_NAME\"]\n",
    "voter_df= voter_df_org\n",
    "voter_df.select(\"VOTER_NAME\").distinct().show(truncate =False)\n"
   ]
  },
  {
   "cell_type": "code",
   "execution_count": 10,
   "metadata": {
    "scrolled": false
   },
   "outputs": [
    {
     "name": "stdout",
     "output_type": "stream",
     "text": [
      "+-------------------+\n",
      "|         VOTER_NAME|\n",
      "+-------------------+\n",
      "|     Tennell Atkins|\n",
      "|       Scott Griggs|\n",
      "|      Scott  Griggs|\n",
      "|      Sandy Greyson|\n",
      "|Michael S. Rawlings|\n",
      "|       Kevin Felder|\n",
      "|       Adam Medrano|\n",
      "|         011018__42|\n",
      "|   Casey Thomas, II|\n",
      "|      Mark  Clayton|\n",
      "|  Casey  Thomas, II|\n",
      "|     Sandy  Greyson|\n",
      "|       Mark Clayton|\n",
      "| Jennifer S.  Gates|\n",
      "|  Tiffinni A. Young|\n",
      "|   B. Adam  McGough|\n",
      "|       Omar Narvaez|\n",
      "| Philip T. Kingston|\n",
      "| Rickey D. Callahan|\n",
      "|  Dwaine R. Caraway|\n",
      "+-------------------+\n",
      "only showing top 20 rows\n",
      "\n"
     ]
    }
   ],
   "source": [
    "voter_df = voter_df.withColumn(\"length_of_VOTER_NAME\", F.length(\"VOTER_NAME\"))\n",
    "voter_df=voter_df.withColumn(\"length_of_VOTER_NAME\",voter_df.length_of_VOTER_NAME.cast(IntegerType()))\n",
    "voter_df =voter_df.filter(voter_df.length_of_VOTER_NAME < 20)\n",
    "voter_df.select(\"VOTER_NAME\").distinct().show()\n"
   ]
  },
  {
   "cell_type": "code",
   "execution_count": 11,
   "metadata": {
    "scrolled": false
   },
   "outputs": [
    {
     "name": "stdout",
     "output_type": "stream",
     "text": [
      "+-------------------+\n",
      "|VOTER_NAME         |\n",
      "+-------------------+\n",
      "|Adam Medrano       |\n",
      "|B. Adam  McGough   |\n",
      "|Carolyn King Arnold|\n",
      "|Casey  Thomas, II  |\n",
      "|Casey Thomas, II   |\n",
      "|Dwaine R. Caraway  |\n",
      "|Erik Wilson        |\n",
      "|Jennifer S.  Gates |\n",
      "|Jennifer S. Gates  |\n",
      "|Kevin Felder       |\n",
      "|Lee Kleinman       |\n",
      "|Lee M. Kleinman    |\n",
      "|Mark  Clayton      |\n",
      "|Mark Clayton       |\n",
      "|Michael S. Rawlings|\n",
      "|Monica R. Alonzo   |\n",
      "|Omar Narvaez       |\n",
      "|Philip T.  Kingston|\n",
      "|Philip T. Kingston |\n",
      "|Rickey D.  Callahan|\n",
      "|Rickey D. Callahan |\n",
      "|Sandy  Greyson     |\n",
      "|Sandy Greyson      |\n",
      "|Scott  Griggs      |\n",
      "|Scott Griggs       |\n",
      "|Tennell Atkins     |\n",
      "|Tiffinni A. Young  |\n",
      "+-------------------+\n",
      "\n"
     ]
    }
   ],
   "source": [
    "# Filter voter_df where the VOTER_NAME is 1-20 characters in lengthb\n",
    "voter_df = voter_df_org\n",
    "#.show()\n",
    "\n",
    "#voter_df.select('VOTER_NAME').distinct().show(20, truncate=False)\n",
    "\n",
    "voter_df= voter_df.filter(~F.col('VOTER_NAME').contains('_'))#.show(30)\n",
    "voter_df = voter_df.filter(F.length(\"VOTER_NAME\") < 20 )\n",
    "voter_df.select(\"VOTER_NAME\").distinct().sort(\"VOTER_NAME\").show(200, truncate=False)\n"
   ]
  },
  {
   "cell_type": "code",
   "execution_count": 12,
   "metadata": {
    "scrolled": false
   },
   "outputs": [
    {
     "name": "stdout",
     "output_type": "stream",
     "text": [
      "+--------------------+-------+----------+\n",
      "|                DATE|  TITLE|VOTER_NAME|\n",
      "+--------------------+-------+----------+\n",
      "|MADELEINE JOHNSON...| 2020]\"|011018__42|\n",
      "|MADELEINE JOHNSON...| 2020]\"|011018__42|\n",
      "|MADELEINE JOHNSON...| 2020]\"|011018__42|\n",
      "|MADELEINE JOHNSON...| 2020]\"|011018__42|\n",
      "|MADELEINE JOHNSON...| 2020]\"|011018__42|\n",
      "|MADELEINE JOHNSON...| 2020]\"|011018__42|\n",
      "|MADELEINE JOHNSON...| 2020]\"|011018__42|\n",
      "|MADELEINE JOHNSON...| 2020]\"|011018__42|\n",
      "|MADELEINE JOHNSON...| 2020]\"|011018__42|\n",
      "|MADELEINE JOHNSON...| 2020]\"|011018__42|\n",
      "|MADELEINE JOHNSON...| 2020]\"|011018__42|\n",
      "|MADELEINE JOHNSON...| 2020]\"|011018__42|\n",
      "|MADELEINE JOHNSON...| 2020]\"|011018__42|\n",
      "|MADELEINE JOHNSON...| 2020]\"|011018__42|\n",
      "|MADELEINE JOHNSON...| 2020]\"|011018__42|\n",
      "+--------------------+-------+----------+\n",
      "\n",
      "+----+-----+----------+\n",
      "|DATE|TITLE|VOTER_NAME|\n",
      "+----+-----+----------+\n",
      "+----+-----+----------+\n",
      "\n"
     ]
    }
   ],
   "source": [
    "voter_df_org.filter(F.col('VOTER_NAME').contains('_')).show(30)\n",
    "voter_df.filter(F.col('VOTER_NAME').contains('_')).show(30)"
   ]
  },
  {
   "cell_type": "code",
   "execution_count": 13,
   "metadata": {
    "scrolled": false
   },
   "outputs": [
    {
     "name": "stdout",
     "output_type": "stream",
     "text": [
      "+----------+-------------+-------------------+\n",
      "|      DATE|        TITLE|         VOTER_NAME|\n",
      "+----------+-------------+-------------------+\n",
      "|02/08/2017|Councilmember|  Jennifer S. Gates|\n",
      "|02/08/2017|Councilmember| Philip T. Kingston|\n",
      "|02/08/2017|        Mayor|Michael S. Rawlings|\n",
      "|02/08/2017|Councilmember|       Adam Medrano|\n",
      "|02/08/2017|Councilmember|   Casey Thomas, II|\n",
      "|02/08/2017|Councilmember|Carolyn King Arnold|\n",
      "|02/08/2017|Councilmember|       Scott Griggs|\n",
      "|02/08/2017|Councilmember|   B. Adam  McGough|\n",
      "|02/08/2017|Councilmember|       Lee Kleinman|\n",
      "|02/08/2017|Councilmember|      Sandy Greyson|\n",
      "|02/08/2017|Councilmember|  Jennifer S. Gates|\n",
      "|02/08/2017|Councilmember| Philip T. Kingston|\n",
      "|02/08/2017|        Mayor|Michael S. Rawlings|\n",
      "|02/08/2017|Councilmember|       Adam Medrano|\n",
      "|02/08/2017|Councilmember|   Casey Thomas, II|\n",
      "|02/08/2017|Councilmember|Carolyn King Arnold|\n",
      "|02/08/2017|Councilmember| Rickey D. Callahan|\n",
      "|01/11/2017|Councilmember|  Jennifer S. Gates|\n",
      "|04/25/2018|Councilmember|     Sandy  Greyson|\n",
      "|04/25/2018|Councilmember| Jennifer S.  Gates|\n",
      "+----------+-------------+-------------------+\n",
      "only showing top 20 rows\n",
      "\n",
      "+----+-----+----------+\n",
      "|DATE|TITLE|VOTER_NAME|\n",
      "+----+-----+----------+\n",
      "+----+-----+----------+\n",
      "\n"
     ]
    }
   ],
   "source": [
    "voter_df = voter_df.filter(~ F.col('VOTER_NAME').contains('_'))\n",
    "\n",
    "voter_df.show()\n",
    "voter_df.filter(F.col('VOTER_NAME').contains('_')).show(30)"
   ]
  },
  {
   "cell_type": "code",
   "execution_count": 14,
   "metadata": {},
   "outputs": [
    {
     "name": "stdout",
     "output_type": "stream",
     "text": [
      "+-------------------+\n",
      "|         VOTER_NAME|\n",
      "+-------------------+\n",
      "|     Tennell Atkins|\n",
      "|       Scott Griggs|\n",
      "|      Scott  Griggs|\n",
      "|      Sandy Greyson|\n",
      "|Michael S. Rawlings|\n",
      "|       Kevin Felder|\n",
      "|       Adam Medrano|\n",
      "|   Casey Thomas, II|\n",
      "|      Mark  Clayton|\n",
      "|  Casey  Thomas, II|\n",
      "|     Sandy  Greyson|\n",
      "|       Mark Clayton|\n",
      "| Jennifer S.  Gates|\n",
      "|  Tiffinni A. Young|\n",
      "|   B. Adam  McGough|\n",
      "|       Omar Narvaez|\n",
      "| Philip T. Kingston|\n",
      "| Rickey D. Callahan|\n",
      "|  Dwaine R. Caraway|\n",
      "|Philip T.  Kingston|\n",
      "|  Jennifer S. Gates|\n",
      "|    Lee M. Kleinman|\n",
      "|   Monica R. Alonzo|\n",
      "|Rickey D.  Callahan|\n",
      "|Carolyn King Arnold|\n",
      "|        Erik Wilson|\n",
      "|       Lee Kleinman|\n",
      "+-------------------+\n",
      "\n"
     ]
    }
   ],
   "source": [
    "voter_df.select('VOTER_NAME').distinct().show(40, truncate=True)\n"
   ]
  },
  {
   "cell_type": "markdown",
   "metadata": {},
   "source": [
    "### Modifying DataFrame columns"
   ]
  },
  {
   "cell_type": "code",
   "execution_count": 22,
   "metadata": {},
   "outputs": [
    {
     "name": "stdout",
     "output_type": "stream",
     "text": [
      "+----------+-------------+-------------------+--------------------+\n",
      "|      DATE|        TITLE|         VOTER_NAME|              splits|\n",
      "+----------+-------------+-------------------+--------------------+\n",
      "|02/08/2017|Councilmember|  Jennifer S. Gates|[Jennifer, S., Ga...|\n",
      "|02/08/2017|Councilmember| Philip T. Kingston|[Philip, T., King...|\n",
      "|02/08/2017|        Mayor|Michael S. Rawlings|[Michael, S., Raw...|\n",
      "|02/08/2017|Councilmember|       Adam Medrano|     [Adam, Medrano]|\n",
      "|02/08/2017|Councilmember|   Casey Thomas, II|     [Casey, Thomas]|\n",
      "|02/08/2017|Councilmember|Carolyn King Arnold|[Carolyn, King, A...|\n",
      "|02/08/2017|Councilmember|       Scott Griggs|     [Scott, Griggs]|\n",
      "|02/08/2017|Councilmember|   B. Adam  McGough| [B., Adam, McGough]|\n",
      "|02/08/2017|Councilmember|       Lee Kleinman|     [Lee, Kleinman]|\n",
      "|02/08/2017|Councilmember|      Sandy Greyson|    [Sandy, Greyson]|\n",
      "|02/08/2017|Councilmember|  Jennifer S. Gates|[Jennifer, S., Ga...|\n",
      "|02/08/2017|Councilmember| Philip T. Kingston|[Philip, T., King...|\n",
      "|02/08/2017|        Mayor|Michael S. Rawlings|[Michael, S., Raw...|\n",
      "|02/08/2017|Councilmember|       Adam Medrano|     [Adam, Medrano]|\n",
      "|02/08/2017|Councilmember|   Casey Thomas, II|     [Casey, Thomas]|\n",
      "|02/08/2017|Councilmember|Carolyn King Arnold|[Carolyn, King, A...|\n",
      "|02/08/2017|Councilmember| Rickey D. Callahan|[Rickey, D., Call...|\n",
      "|01/11/2017|Councilmember|  Jennifer S. Gates|[Jennifer, S., Ga...|\n",
      "|04/25/2018|Councilmember|     Sandy  Greyson|    [Sandy, Greyson]|\n",
      "|04/25/2018|Councilmember| Jennifer S.  Gates|[Jennifer, S., Ga...|\n",
      "+----------+-------------+-------------------+--------------------+\n",
      "only showing top 20 rows\n",
      "\n"
     ]
    }
   ],
   "source": [
    "voter_df = voter_df.withColumn('splits', F.split(voter_df.VOTER_NAME, ','))\n",
    "voter_df = voter_df.withColumn('splits', voter_df.splits.getItem(0))\n",
    "voter_df = voter_df.withColumn('splits', F.split(voter_df.splits, '\\s+'))\n",
    "voter_df.show()"
   ]
  },
  {
   "cell_type": "code",
   "execution_count": 23,
   "metadata": {},
   "outputs": [
    {
     "name": "stdout",
     "output_type": "stream",
     "text": [
      "+----------+-------------+-------------------+--------------------+----------+\n",
      "|      DATE|        TITLE|         VOTER_NAME|              splits|first_name|\n",
      "+----------+-------------+-------------------+--------------------+----------+\n",
      "|02/08/2017|Councilmember|  Jennifer S. Gates|[Jennifer, S., Ga...|  Jennifer|\n",
      "|02/08/2017|Councilmember| Philip T. Kingston|[Philip, T., King...|    Philip|\n",
      "|02/08/2017|        Mayor|Michael S. Rawlings|[Michael, S., Raw...|   Michael|\n",
      "|02/08/2017|Councilmember|       Adam Medrano|     [Adam, Medrano]|      Adam|\n",
      "|02/08/2017|Councilmember|   Casey Thomas, II|     [Casey, Thomas]|     Casey|\n",
      "|02/08/2017|Councilmember|Carolyn King Arnold|[Carolyn, King, A...|   Carolyn|\n",
      "|02/08/2017|Councilmember|       Scott Griggs|     [Scott, Griggs]|     Scott|\n",
      "|02/08/2017|Councilmember|   B. Adam  McGough| [B., Adam, McGough]|        B.|\n",
      "|02/08/2017|Councilmember|       Lee Kleinman|     [Lee, Kleinman]|       Lee|\n",
      "|02/08/2017|Councilmember|      Sandy Greyson|    [Sandy, Greyson]|     Sandy|\n",
      "|02/08/2017|Councilmember|  Jennifer S. Gates|[Jennifer, S., Ga...|  Jennifer|\n",
      "|02/08/2017|Councilmember| Philip T. Kingston|[Philip, T., King...|    Philip|\n",
      "|02/08/2017|        Mayor|Michael S. Rawlings|[Michael, S., Raw...|   Michael|\n",
      "|02/08/2017|Councilmember|       Adam Medrano|     [Adam, Medrano]|      Adam|\n",
      "|02/08/2017|Councilmember|   Casey Thomas, II|     [Casey, Thomas]|     Casey|\n",
      "|02/08/2017|Councilmember|Carolyn King Arnold|[Carolyn, King, A...|   Carolyn|\n",
      "|02/08/2017|Councilmember| Rickey D. Callahan|[Rickey, D., Call...|    Rickey|\n",
      "|01/11/2017|Councilmember|  Jennifer S. Gates|[Jennifer, S., Ga...|  Jennifer|\n",
      "|04/25/2018|Councilmember|     Sandy  Greyson|    [Sandy, Greyson]|     Sandy|\n",
      "|04/25/2018|Councilmember| Jennifer S.  Gates|[Jennifer, S., Ga...|  Jennifer|\n",
      "+----------+-------------+-------------------+--------------------+----------+\n",
      "only showing top 20 rows\n",
      "\n"
     ]
    }
   ],
   "source": [
    "\n",
    "# Create a new column called first_name based on the first item in splits\n",
    "voter_df = voter_df.withColumn('first_name', voter_df.splits.getItem(0))\n",
    "\n",
    "voter_df.show()"
   ]
  },
  {
   "cell_type": "code",
   "execution_count": 25,
   "metadata": {},
   "outputs": [
    {
     "name": "stdout",
     "output_type": "stream",
     "text": [
      "+----------+-------------+-------------------+----------+---------+\n",
      "|      DATE|        TITLE|         VOTER_NAME|first_name|last_name|\n",
      "+----------+-------------+-------------------+----------+---------+\n",
      "|02/08/2017|Councilmember|  Jennifer S. Gates|  Jennifer|    Gates|\n",
      "|02/08/2017|Councilmember| Philip T. Kingston|    Philip| Kingston|\n",
      "|02/08/2017|        Mayor|Michael S. Rawlings|   Michael| Rawlings|\n",
      "|02/08/2017|Councilmember|       Adam Medrano|      Adam|  Medrano|\n",
      "|02/08/2017|Councilmember|   Casey Thomas, II|     Casey|   Thomas|\n",
      "|02/08/2017|Councilmember|Carolyn King Arnold|   Carolyn|   Arnold|\n",
      "|02/08/2017|Councilmember|       Scott Griggs|     Scott|   Griggs|\n",
      "|02/08/2017|Councilmember|   B. Adam  McGough|        B.|  McGough|\n",
      "|02/08/2017|Councilmember|       Lee Kleinman|       Lee| Kleinman|\n",
      "|02/08/2017|Councilmember|      Sandy Greyson|     Sandy|  Greyson|\n",
      "|02/08/2017|Councilmember|  Jennifer S. Gates|  Jennifer|    Gates|\n",
      "|02/08/2017|Councilmember| Philip T. Kingston|    Philip| Kingston|\n",
      "|02/08/2017|        Mayor|Michael S. Rawlings|   Michael| Rawlings|\n",
      "|02/08/2017|Councilmember|       Adam Medrano|      Adam|  Medrano|\n",
      "|02/08/2017|Councilmember|   Casey Thomas, II|     Casey|   Thomas|\n",
      "|02/08/2017|Councilmember|Carolyn King Arnold|   Carolyn|   Arnold|\n",
      "|02/08/2017|Councilmember| Rickey D. Callahan|    Rickey| Callahan|\n",
      "|01/11/2017|Councilmember|  Jennifer S. Gates|  Jennifer|    Gates|\n",
      "|04/25/2018|Councilmember|     Sandy  Greyson|     Sandy|  Greyson|\n",
      "|04/25/2018|Councilmember| Jennifer S.  Gates|  Jennifer|    Gates|\n",
      "+----------+-------------+-------------------+----------+---------+\n",
      "only showing top 20 rows\n",
      "\n"
     ]
    }
   ],
   "source": [
    "# Get the last entry of the splits list and create a column called last_name\n",
    "\n",
    "voter_df=voter_df.withColumn('last_name', voter_df.splits.getItem(F.size('splits')-1))\n",
    "voter_df = voter_df.drop('splits')\n",
    "voter_df.show()"
   ]
  },
  {
   "cell_type": "code",
   "execution_count": null,
   "metadata": {},
   "outputs": [],
   "source": []
  }
 ],
 "metadata": {
  "hide_input": false,
  "kernelspec": {
   "display_name": "Python 3.7.7 64-bit",
   "language": "python",
   "name": "python37764bit31c54662e790487c9a6cdc87294e2b12"
  },
  "language_info": {
   "codemirror_mode": {
    "name": "ipython",
    "version": 3
   },
   "file_extension": ".py",
   "mimetype": "text/x-python",
   "name": "python",
   "nbconvert_exporter": "python",
   "pygments_lexer": "ipython3",
   "version": "3.7.7"
  }
 },
 "nbformat": 4,
 "nbformat_minor": 4
}
